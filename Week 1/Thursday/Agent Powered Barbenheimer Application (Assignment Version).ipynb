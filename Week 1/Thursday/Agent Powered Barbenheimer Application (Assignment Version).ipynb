{
 "cells": [
  {
   "cell_type": "markdown",
   "metadata": {},
   "source": [
    "# Questioning Barbie and Oppenheimer Through the Use of Agents\n",
    "\n",
    "In the following notebook we will build an application that queries both the Barbie and Oppenheimer movies Wikipedia pages, as well as their reviews. \n",
    "\n",
    "The main focus of this notebook is to showcase a brief introduction to Agents.\n",
    "\n",
    "## Build 🏗️\n",
    "\n",
    "There are 3 main tasks in this notebook:\n",
    "\n",
    "1. Contruct a Barbie retriever\n",
    "2. Construct an Oppenheimer retriever\n",
    "3. Combine the two and allow users to query both resources from a single input through the use of Agents\n",
    "\n",
    "## Ship 🚢\n",
    "\n",
    "Based on Tuesday's session - construct a Chainlit (or Gradio) application that allows users to interface with the application.\n",
    "\n",
    "## Share 🚀\n",
    "\n",
    "Make a social media post about your final application."
   ]
  },
  {
   "cell_type": "markdown",
   "metadata": {},
   "source": [
    "### Dependencies\n",
    "\n",
    "As always, let's start with some dependencies!"
   ]
  },
  {
   "cell_type": "code",
   "execution_count": 1,
   "metadata": {},
   "outputs": [],
   "source": [
    "!pip install -q -U langchain openai"
   ]
  },
  {
   "cell_type": "code",
   "execution_count": 2,
   "metadata": {},
   "outputs": [
    {
     "name": "stdin",
     "output_type": "stream",
     "text": [
      "Enter your OpenAI API Key:  ········\n"
     ]
    }
   ],
   "source": [
    "import getpass\n",
    "import os\n",
    "openai_api_key = getpass.getpass(\"Enter your OpenAI API Key: \")\n",
    "os.environ[\"OPENAI_API_KEY\"] = openai_api_key"
   ]
  },
  {
   "cell_type": "markdown",
   "metadata": {},
   "source": [
    "### LLM \n",
    "\n",
    "We will be leveraging OpenAI's `gpt-3.5-turbo` throughout the notebook, and we can keep it consistent throughout!"
   ]
  },
  {
   "cell_type": "code",
   "execution_count": 3,
   "metadata": {},
   "outputs": [],
   "source": [
    "from langchain.chat_models import ChatOpenAI\n",
    "llm = ChatOpenAI(model=\"gpt-3.5-turbo\", temperature = 0)"
   ]
  },
  {
   "cell_type": "markdown",
   "metadata": {},
   "source": [
    "### Data Collection and Transformation\n",
    "\n",
    "We'll be leveraging the `WikipediaLoader` tool to collect information from Wikipedia. \n",
    "\n",
    "Be sure to set the `doc_content_chars_max` parameter so that you capture the *entire* Wikipedia article content."
   ]
  },
  {
   "cell_type": "code",
   "execution_count": 4,
   "metadata": {},
   "outputs": [],
   "source": [
    "!pip install -q -U wikipedia"
   ]
  },
  {
   "cell_type": "code",
   "execution_count": 13,
   "metadata": {},
   "outputs": [],
   "source": [
    "from langchain.document_loaders import WikipediaLoader, CSVLoader\n",
    "\n",
    "barbie_wikipedia_docs = WikipediaLoader(\n",
    "    query=\"Barbie (film)\", \n",
    "    load_max_docs=1,\n",
    "    doc_content_chars_max=1_000_000\n",
    "    ).load()\n",
    "\n",
    "barbie_csv_docs = CSVLoader(\n",
    "    file_path='./barbie_data/barbie.csv',\n",
    "    source_column=\"Review\"\n",
    "    ).load()"
   ]
  },
  {
   "cell_type": "markdown",
   "metadata": {},
   "source": [
    "Since we'll be using same format source documentation separated by topic, we can save ourselves some extra effort and set up our splitters once. \n",
    "\n",
    "We're going to leverage the `RecursiveCharacterTextSplitter` again, this time paying close attention to the format our Wikipedia articles and reviews are in so we can be sure to chunk them appropritately. \n",
    "\n",
    "> HINT: You can pass a list of separators when you intialize your `RecursiveTextSplitter`! They are acted on in order of element 0 -> element len(list).\n",
    "\n",
    "RELEVANT DOCS:\n",
    "- [`RecursiveCharacterTextSplitter`](https://api.python.langchain.com/en/latest/text_splitter/langchain.text_splitter.RecursiveCharacterTextSplitter.html#langchain.text_splitter.RecursiveCharacterTextSplitter)"
   ]
  },
  {
   "cell_type": "code",
   "execution_count": 25,
   "metadata": {},
   "outputs": [],
   "source": [
    "from langchain.text_splitter import RecursiveCharacterTextSplitter\n",
    "\n",
    "wikipedia_text_splitter = RecursiveCharacterTextSplitter(\n",
    "    chunk_size = 512,\n",
    "    chunk_overlap = 0,\n",
    "    length_function = len,\n",
    "    is_separator_regex= False,\n",
    "    separators = [\"\\n==\", \"\\n\", \" \"] # keep headings, then paragraphs, then sentences\n",
    ")\n",
    "\n",
    "csv_text_splitter = RecursiveCharacterTextSplitter(\n",
    "    chunk_size = 1000,\n",
    "    chunk_overlap = 50,\n",
    "    length_function = len,\n",
    "    is_separator_regex= False,\n",
    "    separators = [\"\\n\", \" \"] # keep paragraphs, then sentences\n",
    ")\n",
    "\n",
    "chunked_barbie_wikipedia_docs = wikipedia_text_splitter.split_documents(barbie_wikipedia_docs)\n",
    "chunked_barbie_csv_docs = csv_text_splitter.split_documents(barbie_csv_docs)"
   ]
  },
  {
   "cell_type": "code",
   "execution_count": 27,
   "metadata": {},
   "outputs": [
    {
     "data": {
      "text/plain": [
       "Document(page_content='A live-action Barbie film was announced in September 2009 by Universal Pictures with Laurence Mark producing. Development began in April 2014, when Sony Pictures acquired the film rights. Following multiple writer and director changes and the casting of Amy Schumer and later Anne Hathaway as Barbie, the rights were transferred to Warner Bros. Pictures in October 2018. Robbie was cast in 2019, after Gal Gadot turned down the role due to scheduling conflicts, and Gerwig was announced as director and', metadata={'title': 'Barbie (film)', 'summary': 'Barbie is a 2023 American fantasy comedy film directed by Greta Gerwig from a screenplay she wrote with Noah Baumbach. Based on the Barbie fashion dolls by Mattel, it is the first live-action Barbie film after numerous computer-animated films and specials. The film follows Barbie (Margot Robbie) and Ken (Ryan Gosling) on a journey of self-discovery following an existential crisis. It features an ensemble supporting cast, including America Ferrera, Kate McKinnon, Helen Mirren, Issa Rae, Simu Liu, Michael Cera, Rhea Perlman, and Will Ferrell.\\nA live-action Barbie film was announced in September 2009 by Universal Pictures with Laurence Mark producing. Development began in April 2014, when Sony Pictures acquired the film rights. Following multiple writer and director changes and the casting of Amy Schumer and later Anne Hathaway as Barbie, the rights were transferred to Warner Bros. Pictures in October 2018. Robbie was cast in 2019, after Gal Gadot turned down the role due to scheduling conflicts, and Gerwig was announced as director and co-writer with Baumbach in 2020. The rest of the cast were announced in early 2022. Filming took place primarily at Warner Bros. Studios, Leavesden, in England and on the Venice Beach Skatepark in Los Angeles from March to July 2022.\\nBarbie premiered at the Shrine Auditorium in Los Angeles on July 9, 2023, and was theatrically released in the United States on July 21 by Warner Bros. Pictures. Its simultaneous release with Universal\\'s Oppenheimer led to the \"Barbenheimer\" cultural phenomenon, which encouraged audiences to see both films as a double feature. The film received critical acclaim and has grossed $1.206 billion worldwide, becoming the second highest-grossing film of 2023, as well as the highest-grossing film of all time solely directed by a woman.', 'source': 'https://en.wikipedia.org/wiki/Barbie_(film)'})"
      ]
     },
     "execution_count": 27,
     "metadata": {},
     "output_type": "execute_result"
    }
   ],
   "source": [
    "chunked_barbie_wikipedia_docs[2]"
   ]
  },
  {
   "cell_type": "markdown",
   "metadata": {},
   "source": [
    "#### Retrieval and Embedding Strategy\n",
    "\n",
    "We've already discussed the useful application of `CacheBackedEmbeddings`, so let's do it again!\n",
    "\n",
    "RELEVANT DOCS:\n",
    "- [`CacheBackedEmbeddings`](https://api.python.langchain.com/en/latest/embeddings/langchain.embeddings.cache.CacheBackedEmbeddings.html#langchain-embeddings-cache-cachebackedembeddings)"
   ]
  },
  {
   "cell_type": "code",
   "execution_count": 18,
   "metadata": {},
   "outputs": [],
   "source": [
    "!pip install -q -U rank_bm25 tiktoken faiss-cpu"
   ]
  },
  {
   "cell_type": "code",
   "execution_count": 28,
   "metadata": {},
   "outputs": [],
   "source": [
    "from langchain.retrievers import BM25Retriever, EnsembleRetriever\n",
    "from langchain.vectorstores import FAISS\n",
    "from langchain.embeddings.openai import OpenAIEmbeddings\n",
    "from langchain.embeddings import CacheBackedEmbeddings\n",
    "from langchain.storage import LocalFileStore\n",
    "\n",
    "# set up cached embeddings store\n",
    "store = LocalFileStore(\"./cache/\")\n",
    "\n",
    "core_embeddings_model = OpenAIEmbeddings()\n",
    "\n",
    "embedder = CacheBackedEmbeddings.from_bytes_store(\n",
    "    core_embeddings_model,\n",
    "    store,\n",
    "    namespace=core_embeddings_model.model\n",
    ")"
   ]
  },
  {
   "cell_type": "markdown",
   "metadata": {},
   "source": [
    "We'll implement a `FAISS` vectorstore, and create a retriever from it."
   ]
  },
  {
   "cell_type": "code",
   "execution_count": 29,
   "metadata": {},
   "outputs": [],
   "source": [
    "barbie_csv_faiss_retriever = FAISS.from_documents(chunked_barbie_csv_docs, embedder).as_retriever() ### YOUR CODE HERE\n"
   ]
  },
  {
   "cell_type": "markdown",
   "metadata": {},
   "source": [
    "There are a number of excellent options to retrieve documents - we'll be looking at an additional example today, which is called the `EnsembleRetriever`.\n",
    "\n",
    "The method this is using is outlined in [this paper](https://plg.uwaterloo.ca/~gvcormac/cormacksigir09-rrf.pdf).\n",
    "\n",
    "The brief explanation is:\n",
    "\n",
    "1. We collect results from two different retrieval methods over the same corpus\n",
    "2. We apply a reranking algorithm to rerank our source documents to be the *most relevant* without losing specific or potentially low-ranked information rich documents\n",
    "3. We feed the top-k results into the LLM with our query as context.\n",
    "\n",
    "> HINT: Your weight list should be of type `List[float]` and the `sum(List[float])` should be `1`."
   ]
  },
  {
   "cell_type": "code",
   "execution_count": 32,
   "metadata": {},
   "outputs": [
    {
     "data": {
      "text/plain": [
       "180"
      ]
     },
     "execution_count": 32,
     "metadata": {},
     "output_type": "execute_result"
    }
   ],
   "source": [
    "len(chunked_barbie_csv_docs)"
   ]
  },
  {
   "cell_type": "code",
   "execution_count": 33,
   "metadata": {},
   "outputs": [],
   "source": [
    "# set up BM25 retriever\n",
    "barbie_wikipedia_bm25_retriever = BM25Retriever.from_documents(\n",
    "    chunked_barbie_wikipedia_docs ### YOUR CODE HERE\n",
    ")\n",
    "barbie_wikipedia_bm25_retriever.k = 1\n",
    "\n",
    "# set up FAISS vector store\n",
    "barbie_wikipedia_faiss_store = FAISS.from_documents(\n",
    "    chunked_barbie_wikipedia_docs, ### YOUR CODE HERE\n",
    "    embedder ### YOUR CODE HERE\n",
    ")\n",
    "barbie_wikipedia_faiss_retriever = barbie_wikipedia_faiss_store.as_retriever(search_kwargs={\"k\": 1})\n",
    "\n",
    "# set up ensemble retriever\n",
    "barbie_ensemble_retriever = EnsembleRetriever(\n",
    "    retrievers=[barbie_wikipedia_bm25_retriever, barbie_wikipedia_faiss_retriever], ### YOUR CODE HERE\n",
    "    weights=[0.2, 0.8] ### YOUR CODE HERE # should sum to 1\n",
    ")"
   ]
  },
  {
   "cell_type": "markdown",
   "metadata": {},
   "source": [
    "#### Retrieval Agent\n",
    "\n",
    "We can create a simple conversational retrieval Agent by using the built-ins provided by LangChain!\n",
    "\n",
    "> HINT: Be sure to provide good natural language descriptions of what the tool should be used for to get the best results.\n",
    "\n",
    "RELEVANT DOCS:\n",
    "- [`create_retriever_tool`](https://api.python.langchain.com/en/latest/agents/langchain.agents.agent_toolkits.conversational_retrieval.tool.create_retriever_tool.html#langchain.agents.agent_toolkits.conversational_retrieval.tool.create_retriever_tool)"
   ]
  },
  {
   "cell_type": "code",
   "execution_count": 39,
   "metadata": {},
   "outputs": [],
   "source": [
    "from langchain.agents.agent_toolkits import create_retriever_tool\n",
    "\n",
    "barbie_wikipedia_retrieval_tool = create_retriever_tool(\n",
    "    retriever=barbie_ensemble_retriever, ### YOUR CODE HERE \n",
    "    name=\"Wikipedia\", ### YOUR CODE HERE\n",
    "    description=\"Useful for when you need to answer questions about plot, cast, production, music, history of the Barbie movie\" ### YOUR CODE HERE\n",
    ")\n",
    "\n",
    "barbie_csv_retrieval_tool = create_retriever_tool(\n",
    "    retriever=barbie_csv_faiss_retriever, ### YOUR CODE HERE\n",
    "    name=\"Reviews\", ### YOUR CODE HERE\n",
    "    description=\"Useful for when you need to answer questions about public reviews of the Barbie movie\"### YOUR CODE HERE\n",
    ")\n",
    "\n",
    "barbie_retriever_tools = [barbie_wikipedia_retrieval_tool, barbie_csv_retrieval_tool] ### YOUR CODE HERE"
   ]
  },
  {
   "cell_type": "markdown",
   "metadata": {},
   "source": [
    "Now that we've created our tools, we can combined them into an agent!\n",
    "\n",
    "RELEVANT DOCS:\n",
    "- [`create_conversational_retrieval_agent`](https://api.python.langchain.com/en/latest/agents/langchain.agents.agent_toolkits.conversational_retrieval.openai_functions.create_conversational_retrieval_agent.html#langchain.agents.agent_toolkits.conversational_retrieval.openai_functions.create_conversational_retrieval_agent)"
   ]
  },
  {
   "cell_type": "code",
   "execution_count": 40,
   "metadata": {},
   "outputs": [],
   "source": [
    "from langchain.agents.agent_toolkits import create_conversational_retrieval_agent\n",
    "\n",
    "barbie_retriever_agent_executor = create_conversational_retrieval_agent(\n",
    "    llm=llm, \n",
    "    tools=barbie_retriever_tools,\n",
    "    verbose=True\n",
    ") # YOUR CODE HERE"
   ]
  },
  {
   "cell_type": "code",
   "execution_count": 37,
   "metadata": {},
   "outputs": [
    {
     "name": "stdout",
     "output_type": "stream",
     "text": [
      "\n",
      "\n",
      "\u001b[1m> Entering new AgentExecutor chain...\u001b[0m\n",
      "\u001b[32;1m\u001b[1;3m\n",
      "Invoking: `Reviews` with `Barbie`\n",
      "\n",
      "\n",
      "\u001b[0m\u001b[33;1m\u001b[1;3m[Document(page_content=\"for details and her ability to create a dreamlike world. Barbieland is a feminist utopia in which Barbies serve as presidents, Supreme Court members, doctors, physicists, Nobel prize winners, and cancer cures. The dolls are not structurally different from our world, but they are represented by political fantasy and decade-dependent what-ifs. Barbie has gone to space, could vote, and own property before many human women, and her appearance has changed to mirror society's beauty politics. The representational doll has become an extension of political fantasy, reflecting the beauty politics of society. Gerwig features a cast of Barbies, including Issa Rae, Emma Mackey, Alexandra Shipp, and Hari Nef. Stereotypical Barbie (Margot Robbie) is the protagonist, a blonde-haired, blue-eyed Barbie created by Ruth Handler. Her Ken counterpart, Ryan Gosling, is portrayed with humor and heart. They are a version of Eve and Adam, with their fall being dramatic. Barbie finds her perfect life hampered\", metadata={'source': \"Greta Gerwig's Barbie explores creation myths in Barbieland, a parallel universe populated by Mattel dolls. The director uses the toy conglomerate's vast archive and successful products as tools to create a rich and weird material. The movie is a clever send-up of Barbie dolls and their legacy, featuring light-hearted jokes that poke fun at Mattel, the doll's lore, and the contradictions of our sexist society. The director's storytelling is impressive, and the film's humor is both lighthearted and chuckle-worthy. Gerwig's Barbieland, created by Sarah Greenwood and Jacqueline Durran, is a pink fever dream with funky compositions by Mark Ronson and Andrew Wyatt, bubblegum anthems by Dua Lipa, Nicki Minaj, and Ice Spice. The film features plastic trees and identical two-story Barbie dream homes, with flying being the preferred mode of transportation. The production design and costuming are exceptional, showcasing Gerwig's passion for details and her ability to create a dreamlike world. Barbieland is a feminist utopia in which Barbies serve as presidents, Supreme Court members, doctors, physicists, Nobel prize winners, and cancer cures. The dolls are not structurally different from our world, but they are represented by political fantasy and decade-dependent what-ifs. Barbie has gone to space, could vote, and own property before many human women, and her appearance has changed to mirror society's beauty politics. The representational doll has become an extension of political fantasy, reflecting the beauty politics of society. Gerwig features a cast of Barbies, including Issa Rae, Emma Mackey, Alexandra Shipp, and Hari Nef. Stereotypical Barbie (Margot Robbie) is the protagonist, a blonde-haired, blue-eyed Barbie created by Ruth Handler. Her Ken counterpart, Ryan Gosling, is portrayed with humor and heart. They are a version of Eve and Adam, with their fall being dramatic. Barbie finds her perfect life hampered by existential thoughts and seeks answers from Weird Barbie (Kate McKinnon), a doll with a traumatic history. Stereotypical Barbie, with Ken, heads to real-world Los Angeles to find her little girl. The relationship between Barbies and their human owners is tenuously outlined, so it's best not to think too deeply about how it all works. Robbie's performance in Gerwig's Barbie highlights the tension between Barbie as an object and subject. Her expressive eyes and physical presence reveal the human world's forces, while her rigid presence in Barbieland suggests she's not less rigid in the real world. Despite the director's skill in capturing deeper themes, the film's ominousness and muddied politics suggest it ultimately serves a brand. The film's ominousness and muddied politics suggest the film serves as a brand. Gerwig's film Barbieland is a mix of fun and emotional depth, with a tension between keeping Barbie entertaining and blending her source material with previous projects. After a detour, Barbie returns home to find Ken's patriarchal knowledge has transformed Barbieland. The screenplay, by Gerwig and Noah Baumbach, avoids familiarity and mockery, but the moments that aren't just funny are buried in important monologues, making the gestures feel politically hollow. The film's mandate is too ambitious, making it feel politically hollow.\", 'row': 110}), Document(page_content=\": 122\\nReview_Date: 30 July 2023\\nAuthor: walfordior\\nRating: 9\\nReview_Title: This is more than just a 'lighthearted comedy'\\nReview: Barbie is no longer just a toy; rather, this idea of 'Barbie' has evolved into one of the most famous and significant topics in the world at this moment in time. It is so much more than merely a toy. It will not longer be just 'a toy'\\nReview_Url: /review/rw9199947/?ref_=tt_urv\", metadata={'source': \"Barbie is no longer just a toy; rather, this idea of 'Barbie' has evolved into one of the most famous and significant topics in the world at this moment in time. It is so much more than merely a toy. It will not longer be just 'a toy'\", 'row': 122}), Document(page_content=': 64\\nReview_Date: 22 July 2023\\nAuthor: fernandoschiavi\\nRating: 5\\nReview_Title: \"Barbie\" is fun and visually beautiful, but unfortunately Barbie doll was dragged into the cultural war, used as a puppet by political militancy', metadata={'source': 'Despite the strong commercial tone, it is still possible to perceive that we are watching a film by Greta Gerwig, director known for dramatic comedies that capture the complexity of femininity in an original way - although, in this case, it is almost inevitable to fall into some clichés. The undeniable feminist tone exists through the presence of this female director - in addition to Margot Robbie herself as a producer. \"Barbie\" has sharp and intelligent comments on the dynamics between men and women over time and also on how these social roles are seen and problematized today. And the film does it with a big heart: the story is genuinely fun, with a humor that walks between acidity and innocence, but also moves with the existential journey of its protagonists, reserving touching moments and provoking reflections, especially in its final stretch. Debauchery is the great ally of Gerwig and Baumbach to deal not only with sexism, but also with the \"corporate\" issue. It won\\'t be strange if you catch yourself thinking \"how did Mattel let this film see the light of day?\" Laughing at yourself, after all, seems to be a prerequisite for establishing communication with a young generation of consumers who associate their consumption habits with a critical eye on consumerism itself.', 'row': 64}), Document(page_content=\": 39\\nReview_Date: 23 July 2023\\nAuthor: Anurag-Shetty\\nRating: 10\\nReview_Title: A wholesome delight!\\nReview: Barbie is based on Mattel's iconic plastic dolls of the same name. Barbie(Margot Robbie) lives a very happy life in Barbie Land, along with her fellow Barbies, Ken(Ryan Gosling) & his fellow Kens. Suddenly, Barbie goes through an existential crisis that makes her question Barbie Land & the truth of her existence.\\nReview_Url: /review/rw9199947/?ref_=tt_urv\", metadata={'source': \"Barbie is based on Mattel's iconic plastic dolls of the same name. Barbie(Margot Robbie) lives a very happy life in Barbie Land, along with her fellow Barbies, Ken(Ryan Gosling) & his fellow Kens. Suddenly, Barbie goes through an existential crisis that makes her question Barbie Land & the truth of her existence.\", 'row': 39})]\u001b[0m\u001b[32;1m\u001b[1;3mThe reviews for the movie Barbie are mixed. Some people enjoyed the movie and found it to be more than just a lighthearted comedy. They appreciated the film's clever send-up of Barbie dolls and their legacy, as well as its sharp and intelligent comments on the dynamics between men and women over time. These viewers found the movie to be fun, visually beautiful, and thought-provoking.\n",
      "\n",
      "However, there are also reviews that mention the movie's philosophical elements. Barbie goes through an existential crisis in the movie, questioning Barbie Land and the truth of her existence. The film explores creation myths in Barbieland, a parallel universe populated by Mattel dolls. It delves into deeper themes and provokes reflections, especially in its final stretch. Some viewers found the movie's politics to be muddied and felt that it ultimately served as a brand.\n",
      "\n",
      "Overall, it seems that Barbie has philosophical elements that may resonate with some viewers, but it also has lighter and entertaining aspects. The movie attempts to blend humor, emotional depth, and social commentary, which may be why it is perceived as philosophical by some.\u001b[0m\n",
      "\n",
      "\u001b[1m> Finished chain.\u001b[0m\n"
     ]
    },
    {
     "data": {
      "text/plain": [
       "{'input': 'Did people like Barbie, or did they find it too Philosphical? If they did, can you tell me why the movie is so Philosophical?',\n",
       " 'chat_history': [HumanMessage(content='Did people like Barbie, or did they find it too Philosphical? If they did, can you tell me why the movie is so Philosophical?', additional_kwargs={}, example=False),\n",
       "  AIMessage(content='', additional_kwargs={'function_call': {'name': 'Reviews', 'arguments': '{\\n  \"__arg1\": \"Barbie\"\\n}'}}, example=False),\n",
       "  FunctionMessage(content='[Document(page_content=\"for details and her ability to create a dreamlike world. Barbieland is a feminist utopia in which Barbies serve as presidents, Supreme Court members, doctors, physicists, Nobel prize winners, and cancer cures. The dolls are not structurally different from our world, but they are represented by political fantasy and decade-dependent what-ifs. Barbie has gone to space, could vote, and own property before many human women, and her appearance has changed to mirror society\\'s beauty politics. The representational doll has become an extension of political fantasy, reflecting the beauty politics of society. Gerwig features a cast of Barbies, including Issa Rae, Emma Mackey, Alexandra Shipp, and Hari Nef. Stereotypical Barbie (Margot Robbie) is the protagonist, a blonde-haired, blue-eyed Barbie created by Ruth Handler. Her Ken counterpart, Ryan Gosling, is portrayed with humor and heart. They are a version of Eve and Adam, with their fall being dramatic. Barbie finds her perfect life hampered\", metadata={\\'source\\': \"Greta Gerwig\\'s Barbie explores creation myths in Barbieland, a parallel universe populated by Mattel dolls. The director uses the toy conglomerate\\'s vast archive and successful products as tools to create a rich and weird material. The movie is a clever send-up of Barbie dolls and their legacy, featuring light-hearted jokes that poke fun at Mattel, the doll\\'s lore, and the contradictions of our sexist society. The director\\'s storytelling is impressive, and the film\\'s humor is both lighthearted and chuckle-worthy. Gerwig\\'s Barbieland, created by Sarah Greenwood and Jacqueline Durran, is a pink fever dream with funky compositions by Mark Ronson and Andrew Wyatt, bubblegum anthems by Dua Lipa, Nicki Minaj, and Ice Spice. The film features plastic trees and identical two-story Barbie dream homes, with flying being the preferred mode of transportation. The production design and costuming are exceptional, showcasing Gerwig\\'s passion for details and her ability to create a dreamlike world. Barbieland is a feminist utopia in which Barbies serve as presidents, Supreme Court members, doctors, physicists, Nobel prize winners, and cancer cures. The dolls are not structurally different from our world, but they are represented by political fantasy and decade-dependent what-ifs. Barbie has gone to space, could vote, and own property before many human women, and her appearance has changed to mirror society\\'s beauty politics. The representational doll has become an extension of political fantasy, reflecting the beauty politics of society. Gerwig features a cast of Barbies, including Issa Rae, Emma Mackey, Alexandra Shipp, and Hari Nef. Stereotypical Barbie (Margot Robbie) is the protagonist, a blonde-haired, blue-eyed Barbie created by Ruth Handler. Her Ken counterpart, Ryan Gosling, is portrayed with humor and heart. They are a version of Eve and Adam, with their fall being dramatic. Barbie finds her perfect life hampered by existential thoughts and seeks answers from Weird Barbie (Kate McKinnon), a doll with a traumatic history. Stereotypical Barbie, with Ken, heads to real-world Los Angeles to find her little girl. The relationship between Barbies and their human owners is tenuously outlined, so it\\'s best not to think too deeply about how it all works. Robbie\\'s performance in Gerwig\\'s Barbie highlights the tension between Barbie as an object and subject. Her expressive eyes and physical presence reveal the human world\\'s forces, while her rigid presence in Barbieland suggests she\\'s not less rigid in the real world. Despite the director\\'s skill in capturing deeper themes, the film\\'s ominousness and muddied politics suggest it ultimately serves a brand. The film\\'s ominousness and muddied politics suggest the film serves as a brand. Gerwig\\'s film Barbieland is a mix of fun and emotional depth, with a tension between keeping Barbie entertaining and blending her source material with previous projects. After a detour, Barbie returns home to find Ken\\'s patriarchal knowledge has transformed Barbieland. The screenplay, by Gerwig and Noah Baumbach, avoids familiarity and mockery, but the moments that aren\\'t just funny are buried in important monologues, making the gestures feel politically hollow. The film\\'s mandate is too ambitious, making it feel politically hollow.\", \\'row\\': 110}), Document(page_content=\": 122\\\\nReview_Date: 30 July 2023\\\\nAuthor: walfordior\\\\nRating: 9\\\\nReview_Title: This is more than just a \\'lighthearted comedy\\'\\\\nReview: Barbie is no longer just a toy; rather, this idea of \\'Barbie\\' has evolved into one of the most famous and significant topics in the world at this moment in time. It is so much more than merely a toy. It will not longer be just \\'a toy\\'\\\\nReview_Url: /review/rw9199947/?ref_=tt_urv\", metadata={\\'source\\': \"Barbie is no longer just a toy; rather, this idea of \\'Barbie\\' has evolved into one of the most famous and significant topics in the world at this moment in time. It is so much more than merely a toy. It will not longer be just \\'a toy\\'\", \\'row\\': 122}), Document(page_content=\\': 64\\\\nReview_Date: 22 July 2023\\\\nAuthor: fernandoschiavi\\\\nRating: 5\\\\nReview_Title: \"Barbie\" is fun and visually beautiful, but unfortunately Barbie doll was dragged into the cultural war, used as a puppet by political militancy\\', metadata={\\'source\\': \\'Despite the strong commercial tone, it is still possible to perceive that we are watching a film by Greta Gerwig, director known for dramatic comedies that capture the complexity of femininity in an original way - although, in this case, it is almost inevitable to fall into some clichés. The undeniable feminist tone exists through the presence of this female director - in addition to Margot Robbie herself as a producer. \"Barbie\" has sharp and intelligent comments on the dynamics between men and women over time and also on how these social roles are seen and problematized today. And the film does it with a big heart: the story is genuinely fun, with a humor that walks between acidity and innocence, but also moves with the existential journey of its protagonists, reserving touching moments and provoking reflections, especially in its final stretch. Debauchery is the great ally of Gerwig and Baumbach to deal not only with sexism, but also with the \"corporate\" issue. It won\\\\\\'t be strange if you catch yourself thinking \"how did Mattel let this film see the light of day?\" Laughing at yourself, after all, seems to be a prerequisite for establishing communication with a young generation of consumers who associate their consumption habits with a critical eye on consumerism itself.\\', \\'row\\': 64}), Document(page_content=\": 39\\\\nReview_Date: 23 July 2023\\\\nAuthor: Anurag-Shetty\\\\nRating: 10\\\\nReview_Title: A wholesome delight!\\\\nReview: Barbie is based on Mattel\\'s iconic plastic dolls of the same name. Barbie(Margot Robbie) lives a very happy life in Barbie Land, along with her fellow Barbies, Ken(Ryan Gosling) & his fellow Kens. Suddenly, Barbie goes through an existential crisis that makes her question Barbie Land & the truth of her existence.\\\\nReview_Url: /review/rw9199947/?ref_=tt_urv\", metadata={\\'source\\': \"Barbie is based on Mattel\\'s iconic plastic dolls of the same name. Barbie(Margot Robbie) lives a very happy life in Barbie Land, along with her fellow Barbies, Ken(Ryan Gosling) & his fellow Kens. Suddenly, Barbie goes through an existential crisis that makes her question Barbie Land & the truth of her existence.\", \\'row\\': 39})]', additional_kwargs={}, name='Reviews'),\n",
       "  AIMessage(content=\"The reviews for the movie Barbie are mixed. Some people enjoyed the movie and found it to be more than just a lighthearted comedy. They appreciated the film's clever send-up of Barbie dolls and their legacy, as well as its sharp and intelligent comments on the dynamics between men and women over time. These viewers found the movie to be fun, visually beautiful, and thought-provoking.\\n\\nHowever, there are also reviews that mention the movie's philosophical elements. Barbie goes through an existential crisis in the movie, questioning Barbie Land and the truth of her existence. The film explores creation myths in Barbieland, a parallel universe populated by Mattel dolls. It delves into deeper themes and provokes reflections, especially in its final stretch. Some viewers found the movie's politics to be muddied and felt that it ultimately served as a brand.\\n\\nOverall, it seems that Barbie has philosophical elements that may resonate with some viewers, but it also has lighter and entertaining aspects. The movie attempts to blend humor, emotional depth, and social commentary, which may be why it is perceived as philosophical by some.\", additional_kwargs={}, example=False)],\n",
       " 'output': \"The reviews for the movie Barbie are mixed. Some people enjoyed the movie and found it to be more than just a lighthearted comedy. They appreciated the film's clever send-up of Barbie dolls and their legacy, as well as its sharp and intelligent comments on the dynamics between men and women over time. These viewers found the movie to be fun, visually beautiful, and thought-provoking.\\n\\nHowever, there are also reviews that mention the movie's philosophical elements. Barbie goes through an existential crisis in the movie, questioning Barbie Land and the truth of her existence. The film explores creation myths in Barbieland, a parallel universe populated by Mattel dolls. It delves into deeper themes and provokes reflections, especially in its final stretch. Some viewers found the movie's politics to be muddied and felt that it ultimately served as a brand.\\n\\nOverall, it seems that Barbie has philosophical elements that may resonate with some viewers, but it also has lighter and entertaining aspects. The movie attempts to blend humor, emotional depth, and social commentary, which may be why it is perceived as philosophical by some.\",\n",
       " 'intermediate_steps': [(_FunctionsAgentAction(tool='Reviews', tool_input='Barbie', log='\\nInvoking: `Reviews` with `Barbie`\\n\\n\\n', message_log=[AIMessage(content='', additional_kwargs={'function_call': {'name': 'Reviews', 'arguments': '{\\n  \"__arg1\": \"Barbie\"\\n}'}}, example=False)]),\n",
       "   [Document(page_content=\"for details and her ability to create a dreamlike world. Barbieland is a feminist utopia in which Barbies serve as presidents, Supreme Court members, doctors, physicists, Nobel prize winners, and cancer cures. The dolls are not structurally different from our world, but they are represented by political fantasy and decade-dependent what-ifs. Barbie has gone to space, could vote, and own property before many human women, and her appearance has changed to mirror society's beauty politics. The representational doll has become an extension of political fantasy, reflecting the beauty politics of society. Gerwig features a cast of Barbies, including Issa Rae, Emma Mackey, Alexandra Shipp, and Hari Nef. Stereotypical Barbie (Margot Robbie) is the protagonist, a blonde-haired, blue-eyed Barbie created by Ruth Handler. Her Ken counterpart, Ryan Gosling, is portrayed with humor and heart. They are a version of Eve and Adam, with their fall being dramatic. Barbie finds her perfect life hampered\", metadata={'source': \"Greta Gerwig's Barbie explores creation myths in Barbieland, a parallel universe populated by Mattel dolls. The director uses the toy conglomerate's vast archive and successful products as tools to create a rich and weird material. The movie is a clever send-up of Barbie dolls and their legacy, featuring light-hearted jokes that poke fun at Mattel, the doll's lore, and the contradictions of our sexist society. The director's storytelling is impressive, and the film's humor is both lighthearted and chuckle-worthy. Gerwig's Barbieland, created by Sarah Greenwood and Jacqueline Durran, is a pink fever dream with funky compositions by Mark Ronson and Andrew Wyatt, bubblegum anthems by Dua Lipa, Nicki Minaj, and Ice Spice. The film features plastic trees and identical two-story Barbie dream homes, with flying being the preferred mode of transportation. The production design and costuming are exceptional, showcasing Gerwig's passion for details and her ability to create a dreamlike world. Barbieland is a feminist utopia in which Barbies serve as presidents, Supreme Court members, doctors, physicists, Nobel prize winners, and cancer cures. The dolls are not structurally different from our world, but they are represented by political fantasy and decade-dependent what-ifs. Barbie has gone to space, could vote, and own property before many human women, and her appearance has changed to mirror society's beauty politics. The representational doll has become an extension of political fantasy, reflecting the beauty politics of society. Gerwig features a cast of Barbies, including Issa Rae, Emma Mackey, Alexandra Shipp, and Hari Nef. Stereotypical Barbie (Margot Robbie) is the protagonist, a blonde-haired, blue-eyed Barbie created by Ruth Handler. Her Ken counterpart, Ryan Gosling, is portrayed with humor and heart. They are a version of Eve and Adam, with their fall being dramatic. Barbie finds her perfect life hampered by existential thoughts and seeks answers from Weird Barbie (Kate McKinnon), a doll with a traumatic history. Stereotypical Barbie, with Ken, heads to real-world Los Angeles to find her little girl. The relationship between Barbies and their human owners is tenuously outlined, so it's best not to think too deeply about how it all works. Robbie's performance in Gerwig's Barbie highlights the tension between Barbie as an object and subject. Her expressive eyes and physical presence reveal the human world's forces, while her rigid presence in Barbieland suggests she's not less rigid in the real world. Despite the director's skill in capturing deeper themes, the film's ominousness and muddied politics suggest it ultimately serves a brand. The film's ominousness and muddied politics suggest the film serves as a brand. Gerwig's film Barbieland is a mix of fun and emotional depth, with a tension between keeping Barbie entertaining and blending her source material with previous projects. After a detour, Barbie returns home to find Ken's patriarchal knowledge has transformed Barbieland. The screenplay, by Gerwig and Noah Baumbach, avoids familiarity and mockery, but the moments that aren't just funny are buried in important monologues, making the gestures feel politically hollow. The film's mandate is too ambitious, making it feel politically hollow.\", 'row': 110}),\n",
       "    Document(page_content=\": 122\\nReview_Date: 30 July 2023\\nAuthor: walfordior\\nRating: 9\\nReview_Title: This is more than just a 'lighthearted comedy'\\nReview: Barbie is no longer just a toy; rather, this idea of 'Barbie' has evolved into one of the most famous and significant topics in the world at this moment in time. It is so much more than merely a toy. It will not longer be just 'a toy'\\nReview_Url: /review/rw9199947/?ref_=tt_urv\", metadata={'source': \"Barbie is no longer just a toy; rather, this idea of 'Barbie' has evolved into one of the most famous and significant topics in the world at this moment in time. It is so much more than merely a toy. It will not longer be just 'a toy'\", 'row': 122}),\n",
       "    Document(page_content=': 64\\nReview_Date: 22 July 2023\\nAuthor: fernandoschiavi\\nRating: 5\\nReview_Title: \"Barbie\" is fun and visually beautiful, but unfortunately Barbie doll was dragged into the cultural war, used as a puppet by political militancy', metadata={'source': 'Despite the strong commercial tone, it is still possible to perceive that we are watching a film by Greta Gerwig, director known for dramatic comedies that capture the complexity of femininity in an original way - although, in this case, it is almost inevitable to fall into some clichés. The undeniable feminist tone exists through the presence of this female director - in addition to Margot Robbie herself as a producer. \"Barbie\" has sharp and intelligent comments on the dynamics between men and women over time and also on how these social roles are seen and problematized today. And the film does it with a big heart: the story is genuinely fun, with a humor that walks between acidity and innocence, but also moves with the existential journey of its protagonists, reserving touching moments and provoking reflections, especially in its final stretch. Debauchery is the great ally of Gerwig and Baumbach to deal not only with sexism, but also with the \"corporate\" issue. It won\\'t be strange if you catch yourself thinking \"how did Mattel let this film see the light of day?\" Laughing at yourself, after all, seems to be a prerequisite for establishing communication with a young generation of consumers who associate their consumption habits with a critical eye on consumerism itself.', 'row': 64}),\n",
       "    Document(page_content=\": 39\\nReview_Date: 23 July 2023\\nAuthor: Anurag-Shetty\\nRating: 10\\nReview_Title: A wholesome delight!\\nReview: Barbie is based on Mattel's iconic plastic dolls of the same name. Barbie(Margot Robbie) lives a very happy life in Barbie Land, along with her fellow Barbies, Ken(Ryan Gosling) & his fellow Kens. Suddenly, Barbie goes through an existential crisis that makes her question Barbie Land & the truth of her existence.\\nReview_Url: /review/rw9199947/?ref_=tt_urv\", metadata={'source': \"Barbie is based on Mattel's iconic plastic dolls of the same name. Barbie(Margot Robbie) lives a very happy life in Barbie Land, along with her fellow Barbies, Ken(Ryan Gosling) & his fellow Kens. Suddenly, Barbie goes through an existential crisis that makes her question Barbie Land & the truth of her existence.\", 'row': 39})])]}"
      ]
     },
     "execution_count": 37,
     "metadata": {},
     "output_type": "execute_result"
    }
   ],
   "source": [
    "barbie_retriever_agent_executor({\"input\" : \"Did people like Barbie, or did they find it too Philosphical? If they did, can you tell me why the movie is so Philosophical?\"})"
   ]
  },
  {
   "cell_type": "code",
   "execution_count": 41,
   "metadata": {},
   "outputs": [
    {
     "name": "stdout",
     "output_type": "stream",
     "text": [
      "\n",
      "\n",
      "\u001b[1m> Entering new AgentExecutor chain...\u001b[0m\n",
      "\u001b[32;1m\u001b[1;3m\n",
      "Invoking: `Wikipedia` with `Barbie (film series)`\n",
      "\n",
      "\n",
      "\u001b[0m\u001b[36;1m\u001b[1;3m[Document(page_content='Barbie is a 2023 American fantasy comedy film directed by Greta Gerwig from a screenplay she wrote with Noah Baumbach. Based on the Barbie fashion dolls by Mattel, it is the first live-action Barbie film after numerous computer-animated films and specials. The film follows Barbie (Margot Robbie) and Ken (Ryan Gosling) on a journey of self-discovery following an existential crisis. It features an ensemble supporting cast, including America Ferrera, Kate McKinnon, Helen Mirren, Issa Rae, Simu Liu, Michael', metadata={'title': 'Barbie (film)', 'summary': 'Barbie is a 2023 American fantasy comedy film directed by Greta Gerwig from a screenplay she wrote with Noah Baumbach. Based on the Barbie fashion dolls by Mattel, it is the first live-action Barbie film after numerous computer-animated films and specials. The film follows Barbie (Margot Robbie) and Ken (Ryan Gosling) on a journey of self-discovery following an existential crisis. It features an ensemble supporting cast, including America Ferrera, Kate McKinnon, Helen Mirren, Issa Rae, Simu Liu, Michael Cera, Rhea Perlman, and Will Ferrell.\\nA live-action Barbie film was announced in September 2009 by Universal Pictures with Laurence Mark producing. Development began in April 2014, when Sony Pictures acquired the film rights. Following multiple writer and director changes and the casting of Amy Schumer and later Anne Hathaway as Barbie, the rights were transferred to Warner Bros. Pictures in October 2018. Robbie was cast in 2019, after Gal Gadot turned down the role due to scheduling conflicts, and Gerwig was announced as director and co-writer with Baumbach in 2020. The rest of the cast were announced in early 2022. Filming took place primarily at Warner Bros. Studios, Leavesden, in England and on the Venice Beach Skatepark in Los Angeles from March to July 2022.\\nBarbie premiered at the Shrine Auditorium in Los Angeles on July 9, 2023, and was theatrically released in the United States on July 21 by Warner Bros. Pictures. Its simultaneous release with Universal\\'s Oppenheimer led to the \"Barbenheimer\" cultural phenomenon, which encouraged audiences to see both films as a double feature. The film received critical acclaim and has grossed $1.206 billion worldwide, becoming the second highest-grossing film of 2023, as well as the highest-grossing film of all time solely directed by a woman.', 'source': 'https://en.wikipedia.org/wiki/Barbie_(film)'}), Document(page_content=\"Arriving at Venice Beach, Barbie punches a man for groping her, leading to her and Ken's brief arrest. Alarmed by their presence, Mattel's CEO orders their recapture. Barbie tracks down her owner, a tween girl named Sasha, who criticizes her for encouraging unrealistic beauty standards. Distraught, Barbie discovers that Gloria, a Mattel employee and Sasha's mother, inadvertently catalyzed her existential crisis after Gloria began playing with Sasha's old Barbie toys in a similar state. Mattel attempts to\", metadata={'title': 'Barbie (film)', 'summary': 'Barbie is a 2023 American fantasy comedy film directed by Greta Gerwig from a screenplay she wrote with Noah Baumbach. Based on the Barbie fashion dolls by Mattel, it is the first live-action Barbie film after numerous computer-animated films and specials. The film follows Barbie (Margot Robbie) and Ken (Ryan Gosling) on a journey of self-discovery following an existential crisis. It features an ensemble supporting cast, including America Ferrera, Kate McKinnon, Helen Mirren, Issa Rae, Simu Liu, Michael Cera, Rhea Perlman, and Will Ferrell.\\nA live-action Barbie film was announced in September 2009 by Universal Pictures with Laurence Mark producing. Development began in April 2014, when Sony Pictures acquired the film rights. Following multiple writer and director changes and the casting of Amy Schumer and later Anne Hathaway as Barbie, the rights were transferred to Warner Bros. Pictures in October 2018. Robbie was cast in 2019, after Gal Gadot turned down the role due to scheduling conflicts, and Gerwig was announced as director and co-writer with Baumbach in 2020. The rest of the cast were announced in early 2022. Filming took place primarily at Warner Bros. Studios, Leavesden, in England and on the Venice Beach Skatepark in Los Angeles from March to July 2022.\\nBarbie premiered at the Shrine Auditorium in Los Angeles on July 9, 2023, and was theatrically released in the United States on July 21 by Warner Bros. Pictures. Its simultaneous release with Universal\\'s Oppenheimer led to the \"Barbenheimer\" cultural phenomenon, which encouraged audiences to see both films as a double feature. The film received critical acclaim and has grossed $1.206 billion worldwide, becoming the second highest-grossing film of 2023, as well as the highest-grossing film of all time solely directed by a woman.', 'source': 'https://en.wikipedia.org/wiki/Barbie_(film)'})]\u001b[0m\u001b[32;1m\u001b[1;3mThe Barbie movie is a 2023 American fantasy comedy film directed by Greta Gerwig. It is the first live-action Barbie film after numerous computer-animated films and specials. The film follows Barbie and Ken on a journey of self-discovery following an existential crisis. Barbie tracks down her owner, a tween girl named Sasha, and confronts the unrealistic beauty standards associated with her. The film features an ensemble supporting cast, including Margot Robbie as Barbie, Ryan Gosling as Ken, and other notable actors such as America Ferrera, Kate McKinnon, Helen Mirren, Issa Rae, Simu Liu, Michael Cera, Rhea Perlman, and Will Ferrell.\u001b[0m\n",
      "\n",
      "\u001b[1m> Finished chain.\u001b[0m\n"
     ]
    },
    {
     "data": {
      "text/plain": [
       "{'input': 'What is a very quick summary of the plot of the Barbie movie?',\n",
       " 'chat_history': [HumanMessage(content='What is a very quick summary of the plot of the Barbie movie?', additional_kwargs={}, example=False),\n",
       "  AIMessage(content='', additional_kwargs={'function_call': {'name': 'Wikipedia', 'arguments': '{\\n  \"__arg1\": \"Barbie (film series)\"\\n}'}}, example=False),\n",
       "  FunctionMessage(content='[Document(page_content=\\'Barbie is a 2023 American fantasy comedy film directed by Greta Gerwig from a screenplay she wrote with Noah Baumbach. Based on the Barbie fashion dolls by Mattel, it is the first live-action Barbie film after numerous computer-animated films and specials. The film follows Barbie (Margot Robbie) and Ken (Ryan Gosling) on a journey of self-discovery following an existential crisis. It features an ensemble supporting cast, including America Ferrera, Kate McKinnon, Helen Mirren, Issa Rae, Simu Liu, Michael\\', metadata={\\'title\\': \\'Barbie (film)\\', \\'summary\\': \\'Barbie is a 2023 American fantasy comedy film directed by Greta Gerwig from a screenplay she wrote with Noah Baumbach. Based on the Barbie fashion dolls by Mattel, it is the first live-action Barbie film after numerous computer-animated films and specials. The film follows Barbie (Margot Robbie) and Ken (Ryan Gosling) on a journey of self-discovery following an existential crisis. It features an ensemble supporting cast, including America Ferrera, Kate McKinnon, Helen Mirren, Issa Rae, Simu Liu, Michael Cera, Rhea Perlman, and Will Ferrell.\\\\nA live-action Barbie film was announced in September 2009 by Universal Pictures with Laurence Mark producing. Development began in April 2014, when Sony Pictures acquired the film rights. Following multiple writer and director changes and the casting of Amy Schumer and later Anne Hathaway as Barbie, the rights were transferred to Warner Bros. Pictures in October 2018. Robbie was cast in 2019, after Gal Gadot turned down the role due to scheduling conflicts, and Gerwig was announced as director and co-writer with Baumbach in 2020. The rest of the cast were announced in early 2022. Filming took place primarily at Warner Bros. Studios, Leavesden, in England and on the Venice Beach Skatepark in Los Angeles from March to July 2022.\\\\nBarbie premiered at the Shrine Auditorium in Los Angeles on July 9, 2023, and was theatrically released in the United States on July 21 by Warner Bros. Pictures. Its simultaneous release with Universal\\\\\\'s Oppenheimer led to the \"Barbenheimer\" cultural phenomenon, which encouraged audiences to see both films as a double feature. The film received critical acclaim and has grossed $1.206 billion worldwide, becoming the second highest-grossing film of 2023, as well as the highest-grossing film of all time solely directed by a woman.\\', \\'source\\': \\'https://en.wikipedia.org/wiki/Barbie_(film)\\'}), Document(page_content=\"Arriving at Venice Beach, Barbie punches a man for groping her, leading to her and Ken\\'s brief arrest. Alarmed by their presence, Mattel\\'s CEO orders their recapture. Barbie tracks down her owner, a tween girl named Sasha, who criticizes her for encouraging unrealistic beauty standards. Distraught, Barbie discovers that Gloria, a Mattel employee and Sasha\\'s mother, inadvertently catalyzed her existential crisis after Gloria began playing with Sasha\\'s old Barbie toys in a similar state. Mattel attempts to\", metadata={\\'title\\': \\'Barbie (film)\\', \\'summary\\': \\'Barbie is a 2023 American fantasy comedy film directed by Greta Gerwig from a screenplay she wrote with Noah Baumbach. Based on the Barbie fashion dolls by Mattel, it is the first live-action Barbie film after numerous computer-animated films and specials. The film follows Barbie (Margot Robbie) and Ken (Ryan Gosling) on a journey of self-discovery following an existential crisis. It features an ensemble supporting cast, including America Ferrera, Kate McKinnon, Helen Mirren, Issa Rae, Simu Liu, Michael Cera, Rhea Perlman, and Will Ferrell.\\\\nA live-action Barbie film was announced in September 2009 by Universal Pictures with Laurence Mark producing. Development began in April 2014, when Sony Pictures acquired the film rights. Following multiple writer and director changes and the casting of Amy Schumer and later Anne Hathaway as Barbie, the rights were transferred to Warner Bros. Pictures in October 2018. Robbie was cast in 2019, after Gal Gadot turned down the role due to scheduling conflicts, and Gerwig was announced as director and co-writer with Baumbach in 2020. The rest of the cast were announced in early 2022. Filming took place primarily at Warner Bros. Studios, Leavesden, in England and on the Venice Beach Skatepark in Los Angeles from March to July 2022.\\\\nBarbie premiered at the Shrine Auditorium in Los Angeles on July 9, 2023, and was theatrically released in the United States on July 21 by Warner Bros. Pictures. Its simultaneous release with Universal\\\\\\'s Oppenheimer led to the \"Barbenheimer\" cultural phenomenon, which encouraged audiences to see both films as a double feature. The film received critical acclaim and has grossed $1.206 billion worldwide, becoming the second highest-grossing film of 2023, as well as the highest-grossing film of all time solely directed by a woman.\\', \\'source\\': \\'https://en.wikipedia.org/wiki/Barbie_(film)\\'})]', additional_kwargs={}, name='Wikipedia'),\n",
       "  AIMessage(content='The Barbie movie is a 2023 American fantasy comedy film directed by Greta Gerwig. It is the first live-action Barbie film after numerous computer-animated films and specials. The film follows Barbie and Ken on a journey of self-discovery following an existential crisis. Barbie tracks down her owner, a tween girl named Sasha, and confronts the unrealistic beauty standards associated with her. The film features an ensemble supporting cast, including Margot Robbie as Barbie, Ryan Gosling as Ken, and other notable actors such as America Ferrera, Kate McKinnon, Helen Mirren, Issa Rae, Simu Liu, Michael Cera, Rhea Perlman, and Will Ferrell.', additional_kwargs={}, example=False)],\n",
       " 'output': 'The Barbie movie is a 2023 American fantasy comedy film directed by Greta Gerwig. It is the first live-action Barbie film after numerous computer-animated films and specials. The film follows Barbie and Ken on a journey of self-discovery following an existential crisis. Barbie tracks down her owner, a tween girl named Sasha, and confronts the unrealistic beauty standards associated with her. The film features an ensemble supporting cast, including Margot Robbie as Barbie, Ryan Gosling as Ken, and other notable actors such as America Ferrera, Kate McKinnon, Helen Mirren, Issa Rae, Simu Liu, Michael Cera, Rhea Perlman, and Will Ferrell.',\n",
       " 'intermediate_steps': [(_FunctionsAgentAction(tool='Wikipedia', tool_input='Barbie (film series)', log='\\nInvoking: `Wikipedia` with `Barbie (film series)`\\n\\n\\n', message_log=[AIMessage(content='', additional_kwargs={'function_call': {'name': 'Wikipedia', 'arguments': '{\\n  \"__arg1\": \"Barbie (film series)\"\\n}'}}, example=False)]),\n",
       "   [Document(page_content='Barbie is a 2023 American fantasy comedy film directed by Greta Gerwig from a screenplay she wrote with Noah Baumbach. Based on the Barbie fashion dolls by Mattel, it is the first live-action Barbie film after numerous computer-animated films and specials. The film follows Barbie (Margot Robbie) and Ken (Ryan Gosling) on a journey of self-discovery following an existential crisis. It features an ensemble supporting cast, including America Ferrera, Kate McKinnon, Helen Mirren, Issa Rae, Simu Liu, Michael', metadata={'title': 'Barbie (film)', 'summary': 'Barbie is a 2023 American fantasy comedy film directed by Greta Gerwig from a screenplay she wrote with Noah Baumbach. Based on the Barbie fashion dolls by Mattel, it is the first live-action Barbie film after numerous computer-animated films and specials. The film follows Barbie (Margot Robbie) and Ken (Ryan Gosling) on a journey of self-discovery following an existential crisis. It features an ensemble supporting cast, including America Ferrera, Kate McKinnon, Helen Mirren, Issa Rae, Simu Liu, Michael Cera, Rhea Perlman, and Will Ferrell.\\nA live-action Barbie film was announced in September 2009 by Universal Pictures with Laurence Mark producing. Development began in April 2014, when Sony Pictures acquired the film rights. Following multiple writer and director changes and the casting of Amy Schumer and later Anne Hathaway as Barbie, the rights were transferred to Warner Bros. Pictures in October 2018. Robbie was cast in 2019, after Gal Gadot turned down the role due to scheduling conflicts, and Gerwig was announced as director and co-writer with Baumbach in 2020. The rest of the cast were announced in early 2022. Filming took place primarily at Warner Bros. Studios, Leavesden, in England and on the Venice Beach Skatepark in Los Angeles from March to July 2022.\\nBarbie premiered at the Shrine Auditorium in Los Angeles on July 9, 2023, and was theatrically released in the United States on July 21 by Warner Bros. Pictures. Its simultaneous release with Universal\\'s Oppenheimer led to the \"Barbenheimer\" cultural phenomenon, which encouraged audiences to see both films as a double feature. The film received critical acclaim and has grossed $1.206 billion worldwide, becoming the second highest-grossing film of 2023, as well as the highest-grossing film of all time solely directed by a woman.', 'source': 'https://en.wikipedia.org/wiki/Barbie_(film)'}),\n",
       "    Document(page_content=\"Arriving at Venice Beach, Barbie punches a man for groping her, leading to her and Ken's brief arrest. Alarmed by their presence, Mattel's CEO orders their recapture. Barbie tracks down her owner, a tween girl named Sasha, who criticizes her for encouraging unrealistic beauty standards. Distraught, Barbie discovers that Gloria, a Mattel employee and Sasha's mother, inadvertently catalyzed her existential crisis after Gloria began playing with Sasha's old Barbie toys in a similar state. Mattel attempts to\", metadata={'title': 'Barbie (film)', 'summary': 'Barbie is a 2023 American fantasy comedy film directed by Greta Gerwig from a screenplay she wrote with Noah Baumbach. Based on the Barbie fashion dolls by Mattel, it is the first live-action Barbie film after numerous computer-animated films and specials. The film follows Barbie (Margot Robbie) and Ken (Ryan Gosling) on a journey of self-discovery following an existential crisis. It features an ensemble supporting cast, including America Ferrera, Kate McKinnon, Helen Mirren, Issa Rae, Simu Liu, Michael Cera, Rhea Perlman, and Will Ferrell.\\nA live-action Barbie film was announced in September 2009 by Universal Pictures with Laurence Mark producing. Development began in April 2014, when Sony Pictures acquired the film rights. Following multiple writer and director changes and the casting of Amy Schumer and later Anne Hathaway as Barbie, the rights were transferred to Warner Bros. Pictures in October 2018. Robbie was cast in 2019, after Gal Gadot turned down the role due to scheduling conflicts, and Gerwig was announced as director and co-writer with Baumbach in 2020. The rest of the cast were announced in early 2022. Filming took place primarily at Warner Bros. Studios, Leavesden, in England and on the Venice Beach Skatepark in Los Angeles from March to July 2022.\\nBarbie premiered at the Shrine Auditorium in Los Angeles on July 9, 2023, and was theatrically released in the United States on July 21 by Warner Bros. Pictures. Its simultaneous release with Universal\\'s Oppenheimer led to the \"Barbenheimer\" cultural phenomenon, which encouraged audiences to see both films as a double feature. The film received critical acclaim and has grossed $1.206 billion worldwide, becoming the second highest-grossing film of 2023, as well as the highest-grossing film of all time solely directed by a woman.', 'source': 'https://en.wikipedia.org/wiki/Barbie_(film)'})])]}"
      ]
     },
     "execution_count": 41,
     "metadata": {},
     "output_type": "execute_result"
    }
   ],
   "source": [
    "barbie_retriever_agent_executor({\"input\" : \"What is a very quick summary of the plot of the Barbie movie?\"})"
   ]
  },
  {
   "cell_type": "markdown",
   "metadata": {},
   "source": [
    "### Oppenheimer Retrieval System\n",
    "\n",
    "We're going to repourpose some of what we created previously, but this time we'll explore a different multi-source retrieval system."
   ]
  },
  {
   "cell_type": "code",
   "execution_count": 44,
   "metadata": {},
   "outputs": [],
   "source": [
    "oppenheimer_wikipedia_docs = WikipediaLoader(\n",
    "    query=\"Oppenheimer (film)\", \n",
    "    load_max_docs=1, \n",
    "    doc_content_chars_max=1_000_000\n",
    ").load() ### YOUR CODE HERE\n",
    "\n",
    "oppenheimer_csv_docs = CSVLoader(\n",
    "    file_path=\"./oppenheimer_data/oppenheimer.csv\", \n",
    "    source_column=\"Review_Url\"\n",
    ").load() ### YOUR CODE HERE"
   ]
  },
  {
   "cell_type": "code",
   "execution_count": 45,
   "metadata": {},
   "outputs": [],
   "source": [
    "chunked_opp_wikipedia_docs = wikipedia_text_splitter.transform_documents(oppenheimer_wikipedia_docs) ### YOUR CODE HERE\n",
    "chunked_opp_csv_docs = csv_text_splitter.transform_documents(oppenheimer_csv_docs) ### YOUR CODE HERE"
   ]
  },
  {
   "cell_type": "code",
   "execution_count": 46,
   "metadata": {},
   "outputs": [],
   "source": [
    "opp_csv_faiss_retriever = FAISS.from_documents(chunked_opp_csv_docs, embedder).as_retriever() ### YOUR CODE HERE\n",
    "\n",
    "# set up BM25 retriever\n",
    "opp_wikipedia_bm25_retriever = BM25Retriever.from_documents(\n",
    "    chunked_opp_wikipedia_docs ### YOUR CODE HERE\n",
    ")\n",
    "opp_wikipedia_bm25_retriever.k = 1\n",
    "\n",
    "# set up FAISS vector store\n",
    "opp_wikipedia_faiss_store = FAISS.from_documents(\n",
    "    chunked_opp_wikipedia_docs, \n",
    "    embedder \n",
    ")\n",
    "opp_wikipedia_faiss_retriever = opp_wikipedia_faiss_store.as_retriever(search_kwargs={\"k\": 1})\n",
    "\n",
    "# set up ensemble retriever\n",
    "opp_ensemble_retriever = EnsembleRetriever(\n",
    "    retrievers=[opp_wikipedia_bm25_retriever, opp_wikipedia_faiss_retriever], ### YOUR CODE HERE\n",
    "    weights=[0.2, 0.8] ### YOUR CODE HERE # should sum to 1\n",
    ")"
   ]
  },
  {
   "cell_type": "markdown",
   "metadata": {},
   "source": [
    "#### Multi-source chain\n",
    "\n",
    "We're going to allow the LLM to decide which information is most -> least valuable.\n",
    "\n",
    "The way we'll do this is with LangChain's rather powerful \"Expression Language\"!\n",
    "\n",
    "> HINT: You can leverage [this](https://python.langchain.com/docs/use_cases/question_answering/how_to/multiple_retrieval) resource if you get stuck - but experiment with different prompts/formats."
   ]
  },
  {
   "cell_type": "code",
   "execution_count": 47,
   "metadata": {},
   "outputs": [],
   "source": [
    "from langchain.prompts import ChatPromptTemplate\n",
    "\n",
    "system_message = \"\"\"Use the information from the below two sources to answer any questions.\n",
    "\n",
    "Source 1: public user reviews about the Oppenheimer movie\n",
    "<source1>\n",
    "{source1}\n",
    "</source1>\n",
    "\n",
    "Source 2: the wikipedia page for the Oppenheimer movie including the plot summary, cast, and production information\n",
    "<source2>\n",
    "{source2}\n",
    "</source2>\n",
    "\"\"\"\n",
    "\n",
    "prompt = ChatPromptTemplate.from_messages([(\"system\", system_message), (\"human\", \"{question}\")])"
   ]
  },
  {
   "cell_type": "code",
   "execution_count": 48,
   "metadata": {},
   "outputs": [],
   "source": [
    "oppenheimer_multisource_chain = {\n",
    "    \"source1\": (lambda x: x[\"question\"]) | opp_ensemble_retriever,\n",
    "    \"source2\": (lambda x: x[\"question\"]) | opp_csv_faiss_retriever,\n",
    "    \"question\": lambda x: x[\"question\"],\n",
    "} | prompt | llm"
   ]
  },
  {
   "cell_type": "code",
   "execution_count": 49,
   "metadata": {},
   "outputs": [
    {
     "data": {
      "text/plain": [
       "AIMessage(content=\"People generally thought highly of the Oppenheimer movie. Critics praised the screenplay, performances of the cast (especially Cillian Murphy and Robert Downey Jr.), and the visuals. It was frequently cited as one of the best films of 2023. On Rotten Tomatoes, 93% of 450 critics' reviews were positive, with an average rating of 8.6/10. Audience reviews also expressed positive opinions, with viewers finding the movie compelling, engaging, and simple to understand. The actors were praised for their phenomenal performances, particularly Cillian Murphy. Some viewers appreciated the film's cinematography and its ability to spark an interest in history. However, there were some criticisms regarding the historical accuracy and the absence of emotional depth in the portrayal of J. Robert Oppenheimer.\", additional_kwargs={}, example=False)"
      ]
     },
     "execution_count": 49,
     "metadata": {},
     "output_type": "execute_result"
    }
   ],
   "source": [
    "oppenheimer_multisource_chain.invoke({\"question\" : \"What did people think of the Oppenheimer movie?\"})"
   ]
  },
  {
   "cell_type": "markdown",
   "metadata": {},
   "source": [
    "# Agent Creation\n",
    "\n",
    "Now we can finally start building our Agent!\n",
    "\n",
    "The first thing we'll need to do is provide our Agent a Toolbelt. (list of tools). Much like Batman, our LLM-powered Agent can use these tools as it sees fit. \n",
    "\n",
    "While the examples we're constructing in this notebook are straightforward for brevity and simplicities sake - there is no limit to what you can build with Agents, as we'll see as we progress through the program.\n",
    "\n",
    "So, let's begin by setting up our Tools!\n",
    "\n",
    "You'll notice that we have to set up a function to allow our `OppenheimerInfo` tool to interface with the Agent - this is due to it have a specific required input. Creating custom tools is a pattern that you'll want to grow acustomed to as you use LangChain more and more."
   ]
  },
  {
   "cell_type": "code",
   "execution_count": 55,
   "metadata": {},
   "outputs": [],
   "source": [
    "from langchain.agents import Tool\n",
    "\n",
    "def query_oppenheimer(input):\n",
    "    return oppenheimer_multisource_chain.invoke({\"question\" : input})\n",
    "\n",
    "tools = [\n",
    "    Tool(\n",
    "        name=\"OppenheimerInfo\",\n",
    "        func=query_oppenheimer, ### YOUR CODE HERE,\n",
    "        description=\"Useful for when you need to answer questions about public reviews, plot, cast, production, history of the Oppenheimer movie. Input should be a fully formed question.\" ### YOUR CODE HERE\n",
    "    ),\n",
    "    Tool(\n",
    "        name =\"BarbieInfo\",  ### YOUR CODE HERE\n",
    "        func=barbie_retriever_agent_executor.invoke, ### YOUR CODE HERE\n",
    "        description=\"Useful for when you need to answer questions about public reviews, plot, cast, production, history of the Barbie movie. Input should be a fully formed question.\" ### YOUR CODE HERE\n",
    "    ),\n",
    "]"
   ]
  },
  {
   "cell_type": "markdown",
   "metadata": {},
   "source": [
    "Now that we've set up our Agents toolbelt, let's set up the LLM that will be powering it!\n",
    "\n",
    "I would suggest playing around with these prompts - and experiments to find what works best for you.\n",
    "\n",
    "RELEVANT DOCS:\n",
    "- [`ZeroShotAgent`](https://api.python.langchain.com/en/latest/agents/langchain.agents.mrkl.base.ZeroShotAgent.html#langchain-agents-mrkl-base-zeroshotagent)"
   ]
  },
  {
   "cell_type": "code",
   "execution_count": 56,
   "metadata": {},
   "outputs": [],
   "source": [
    "from langchain.agents import ZeroShotAgent, AgentExecutor\n",
    "\n",
    "prefix = \"\"\"Have a conversation with a human, answering the following questions as best you can. You have access to the following tools:\"\"\"\n",
    "suffix = \"\"\"Begin!\"\n",
    "\n",
    "Question: {input}\n",
    "{agent_scratchpad}\"\"\"\n",
    "\n",
    "prompt = ZeroShotAgent.create_prompt(\n",
    "    tools=tools, ### YOUR CODE HERE\n",
    "    prefix=prefix, ### YOUR CODE HERE\n",
    "    suffix=suffix, ### YOUR CODE HERE\n",
    "    input_variables=['input', 'agent_scratchpad'] ### YOUR CODE HERE\n",
    ")"
   ]
  },
  {
   "cell_type": "code",
   "execution_count": 57,
   "metadata": {},
   "outputs": [],
   "source": [
    "from langchain import LLMChain\n",
    "\n",
    "llm_chain = LLMChain(llm=llm, prompt=prompt) ### YOUR CODE HERE"
   ]
  },
  {
   "cell_type": "markdown",
   "metadata": {},
   "source": [
    "All that's left to do now is create our `ZeroShotAgent` and our `AgentExecutor`, which are the \"reasoner\" and \"actor\" halfs of the `ReAct` method of Agent implementation.\n",
    "\n",
    "Read all about the `ReAct` framework [here](https://react-lm.github.io/)"
   ]
  },
  {
   "cell_type": "code",
   "execution_count": 58,
   "metadata": {},
   "outputs": [],
   "source": [
    "barbenheimer_agent = ZeroShotAgent(\n",
    "    llm_chain=llm_chain, ### YOUR AGENTS, \n",
    "    tools=tools, ### YOUR AGENTS, \n",
    "    verbose=True ### YOUR AGENTS\n",
    ")\n",
    "\n",
    "barbenheimer_agent_chain = AgentExecutor.from_agent_and_tools(\n",
    "    agent=barbenheimer_agent, ### YOUR AGENTS\n",
    "    tools=tools, ### YOUR AGENTS \n",
    "    verbose=True ### YOUR AGENTS\n",
    ")"
   ]
  },
  {
   "cell_type": "markdown",
   "metadata": {},
   "source": [
    "## Conclusion\n",
    "\n",
    "All that is left to do now, is feed inputs to your Agent and watch it work!\n",
    "\n",
    "Remember to use the `{\"input\" : \"YOUR QUERY HERE\"}` format when prompting the Agent."
   ]
  },
  {
   "cell_type": "code",
   "execution_count": 59,
   "metadata": {},
   "outputs": [
    {
     "name": "stdout",
     "output_type": "stream",
     "text": [
      "\n",
      "\n",
      "\u001b[1m> Entering new AgentExecutor chain...\u001b[0m\n",
      "\u001b[32;1m\u001b[1;3mThought: I need to find out what people liked about the Barbie movie.\n",
      "Action: BarbieInfo\n",
      "Action Input: What did people like about the Barbie movie?\u001b[0m\n",
      "\n",
      "\u001b[1m> Entering new AgentExecutor chain...\u001b[0m\n",
      "\u001b[32;1m\u001b[1;3mBased on the reviews, here are some things that people liked about the Barbie movie:\n",
      "\n",
      "1. Visual Spectacle: The movie is praised for its wonderful visual spectacle, with creative physical comedy and a doll-like aesthetic. The use of colorful visuals and doll-like movements of the actors are appreciated.\n",
      "\n",
      "2. Fun and Entertainment: Many viewers found the movie to be fun and entertaining. The comedy in the film is mentioned as funny, and there are choreographed dances that add to the enjoyment.\n",
      "\n",
      "3. Empowerment Theme: Some viewers appreciated the theme of empowerment in the movie. It resonated with them and made the film a big hit.\n",
      "\n",
      "4. Darkly Satirical Look at Gender Structure: The movie is commended for taking a darkly satirical look at gender structure in society. It explores this theme in an amusing and thought-provoking way.\n",
      "\n",
      "5. Performances: The performances of the actors, including Margot Robbie and Ryan Gosling, are praised. Their portrayal of the characters adds to the enjoyment of the film.\n",
      "\n",
      "It's important to note that these are general observations from the reviews and individual opinions may vary.\u001b[0m\n",
      "\n",
      "\u001b[1m> Finished chain.\u001b[0m\n",
      "\n",
      "Observation: \u001b[33;1m\u001b[1;3m{'input': 'What did people like about the Barbie movie?', 'chat_history': [HumanMessage(content='Public reviews', additional_kwargs={}, example=False), AIMessage(content='', additional_kwargs={'function_call': {'name': 'Reviews', 'arguments': '{\\n  \"__arg1\": \"Barbie movie\"\\n}'}}, example=False), FunctionMessage(content='[Document(page_content=\"Review: The big summer blockbuster of 2023 is a wonderful visual spectacle with a great deal of creative physical comedy, centered in and around the universe of Barbie, Mattel\\'s historic toy doll. Unfortunately, the film tries to be and do much more than what the filmmakers ultimately are able to control and reel in. That a movie about Barbie would be guilty of Americanization is no surprise, and in many ways more than befitting, but the Americanization here isn\\'t just about the history of the toy itself and all its cultural impacts - Barbie also views everything through the eyes of Hollywood anno 2023 - which arguably is a very particular and perhaps not that representative outlook. Instead of utilizing the fine foundation laid in the film\\'s first third, director and co-writer Greta Gervig (Lady Bird, Little Women) gets herself lost in a trite, divisive and most likely futile battle of the sexes, which will leave youths - and perhaps particularly Europeans - feeling confused and\", metadata={\\'source\\': \"The big summer blockbuster of 2023 is a wonderful visual spectacle with a great deal of creative physical comedy, centered in and around the universe of Barbie, Mattel\\'s historic toy doll. Unfortunately, the film tries to be and do much more than what the filmmakers ultimately are able to control and reel in. That a movie about Barbie would be guilty of Americanization is no surprise, and in many ways more than befitting, but the Americanization here isn\\'t just about the history of the toy itself and all its cultural impacts - Barbie also views everything through the eyes of Hollywood anno 2023 - which arguably is a very particular and perhaps not that representative outlook. Instead of utilizing the fine foundation laid in the film\\'s first third, director and co-writer Greta Gervig (Lady Bird, Little Women) gets herself lost in a trite, divisive and most likely futile battle of the sexes, which will leave youths - and perhaps particularly Europeans - feeling confused and conflicted. The filmmakers\\' supposed toying with stereotypes ultimately becomes more of a playing into them, especially towards the end when Gerwig staggers along desperately looking for closure and something meaningful to say. Alas, Barbie has ended up as a rather sad symptom of our times, when it could have been the wonderfully funny piece of femininity-appraising escapism it started out as. There are nonetheless several highlights here, such as the delightfully absurd opening sequence (a fine nod to Kubrick\\'s 2001), the initial introduction of Barbie and Ken\\'s days in Barbieland, and - of course - their first encounter with the real world.\", \\'row\\': 116}), Document(page_content=\\': 53\\\\nReview_Date: 29 July 2023\\\\nAuthor: planktonrules\\\\nRating: 6\\\\nReview_Title: Good...not great\\\\nReview: \"Barbie\" is a movie that is setting all sorts of records, so it\\\\\\'s obvious that the film is touching many people. For some, it\\\\\\'s the fun of seeing a doll come to life, for others it\\\\\\'s the theme of empowerment that make the movie a big hit. As for me, I did like it and thought it was a pretty good movie...but it\\\\\\'s not for everyone.\\\\nReview_Url: /review/rw9199947/?ref_=tt_urv\\', metadata={\\'source\\': \\'\"Barbie\" is a movie that is setting all sorts of records, so it\\\\\\'s obvious that the film is touching many people. For some, it\\\\\\'s the fun of seeing a doll come to life, for others it\\\\\\'s the theme of empowerment that make the movie a big hit. As for me, I did like it and thought it was a pretty good movie...but it\\\\\\'s not for everyone.\\', \\'row\\': 53}), Document(page_content=\\': 97\\\\nReview_Date: 21 July 2023\\\\nAuthor: MrDHWong\\\\nRating: 9\\\\nReview_Title: A darkly satirical look at gender structure in society\\\\nReview: \"Barbie\" is a comedy film based on the line of fashion dolls by Mattel. Directed and co-written by Greta Gerwig (\"Lady Bird\", \"Little Women\") and starring Margot Robbie and Ryan Gosling, it takes every opportunity to revel in its amusing premise with a darkly satirical look at gender structure in society.\\\\nReview_Url: /review/rw9199947/?ref_=tt_urv\\', metadata={\\'source\\': \\'\"Barbie\" is a comedy film based on the line of fashion dolls by Mattel. Directed and co-written by Greta Gerwig (\"Lady Bird\", \"Little Women\") and starring Margot Robbie and Ryan Gosling, it takes every opportunity to revel in its amusing premise with a darkly satirical look at gender structure in society.\\', \\'row\\': 97}), Document(page_content=\": 104\\\\nReview_Date: 22 July 2023\\\\nAuthor: No-Life-101\\\\nRating: 8\\\\nReview_Title: Barbie has an existential crisis\\\\nReview: Barbie is a really fun movie that all ages can enjoy because while it\\'s colourful and entertaining the main storyline can get emotional at times. The comedy in the movie is pretty funny too and got a few laughs from everyone in the cinema, the music is really nice and so are the choreographed dances. What I liked the most about this movie is that it was very doll-like, the food and drink were plastic and fake, the cars didn\\'t have engines and just glided along the floor, and the actors were doll-like in their movements and how they interacted with their environment.\\\\nReview_Url: /review/rw9199947/?ref_=tt_urv\", metadata={\\'source\\': \"Barbie is a really fun movie that all ages can enjoy because while it\\'s colourful and entertaining the main storyline can get emotional at times. The comedy in the movie is pretty funny too and got a few laughs from everyone in the cinema, the music is really nice and so are the choreographed dances. What I liked the most about this movie is that it was very doll-like, the food and drink were plastic and fake, the cars didn\\'t have engines and just glided along the floor, and the actors were doll-like in their movements and how they interacted with their environment.\", \\'row\\': 104})]', additional_kwargs={}, name='Reviews'), AIMessage(content='Here are some public reviews of the Barbie movie:\\n\\n1. Review: The big summer blockbuster of 2023 is a wonderful visual spectacle with a great deal of creative physical comedy, centered in and around the universe of Barbie. However, the film tries to be and do much more than what the filmmakers ultimately are able to control and reel in. The Americanization of the movie isn\\'t just about the history of the toy itself, but also views everything through the eyes of Hollywood in 2023, which may not be representative for everyone. The film gets lost in a trite and divisive battle of the sexes, leaving some viewers feeling confused and conflicted. Overall, the film has several highlights but falls short of its potential. (Source: The review by planktonrules)\\n\\n2. Review: \"Barbie\" is a movie that is setting all sorts of records and is touching many people. Some enjoy the fun of seeing a doll come to life, while others appreciate the theme of empowerment. The reviewer thought the movie was pretty good, but acknowledges that it may not be for everyone. (Source: The review by MrDHWong)\\n\\n3. Review: \"Barbie\" is a comedy film that takes every opportunity to revel in its amusing premise with a darkly satirical look at gender structure in society. The reviewer praises the direction and writing by Greta Gerwig and the performances of Margot Robbie and Ryan Gosling. (Source: The review by MrDHWong)\\n\\n4. Review: \"Barbie\" is a really fun movie that all ages can enjoy. The main storyline can get emotional at times, but the comedy is funny and the music and choreographed dances are enjoyable. The reviewer appreciates the doll-like aesthetic of the movie, with plastic and fake props and doll-like movements of the actors. (Source: The review by No-Life-101)\\n\\nPlease note that these reviews represent the opinions of individual viewers and may vary.', additional_kwargs={}, example=False), HumanMessage(content='What did people like about the Barbie movie?', additional_kwargs={}, example=False), AIMessage(content=\"Based on the reviews, here are some things that people liked about the Barbie movie:\\n\\n1. Visual Spectacle: The movie is praised for its wonderful visual spectacle, with creative physical comedy and a doll-like aesthetic. The use of colorful visuals and doll-like movements of the actors are appreciated.\\n\\n2. Fun and Entertainment: Many viewers found the movie to be fun and entertaining. The comedy in the film is mentioned as funny, and there are choreographed dances that add to the enjoyment.\\n\\n3. Empowerment Theme: Some viewers appreciated the theme of empowerment in the movie. It resonated with them and made the film a big hit.\\n\\n4. Darkly Satirical Look at Gender Structure: The movie is commended for taking a darkly satirical look at gender structure in society. It explores this theme in an amusing and thought-provoking way.\\n\\n5. Performances: The performances of the actors, including Margot Robbie and Ryan Gosling, are praised. Their portrayal of the characters adds to the enjoyment of the film.\\n\\nIt's important to note that these are general observations from the reviews and individual opinions may vary.\", additional_kwargs={}, example=False)], 'output': \"Based on the reviews, here are some things that people liked about the Barbie movie:\\n\\n1. Visual Spectacle: The movie is praised for its wonderful visual spectacle, with creative physical comedy and a doll-like aesthetic. The use of colorful visuals and doll-like movements of the actors are appreciated.\\n\\n2. Fun and Entertainment: Many viewers found the movie to be fun and entertaining. The comedy in the film is mentioned as funny, and there are choreographed dances that add to the enjoyment.\\n\\n3. Empowerment Theme: Some viewers appreciated the theme of empowerment in the movie. It resonated with them and made the film a big hit.\\n\\n4. Darkly Satirical Look at Gender Structure: The movie is commended for taking a darkly satirical look at gender structure in society. It explores this theme in an amusing and thought-provoking way.\\n\\n5. Performances: The performances of the actors, including Margot Robbie and Ryan Gosling, are praised. Their portrayal of the characters adds to the enjoyment of the film.\\n\\nIt's important to note that these are general observations from the reviews and individual opinions may vary.\", 'intermediate_steps': []}\u001b[0m\n",
      "Thought:\u001b[32;1m\u001b[1;3mI now know the final answer.\n",
      "Final Answer: Based on the reviews, people liked the Barbie movie for its wonderful visual spectacle, fun and entertainment, empowerment theme, darkly satirical look at gender structure, and the performances of the actors.\u001b[0m\n",
      "\n",
      "\u001b[1m> Finished chain.\u001b[0m\n"
     ]
    },
    {
     "data": {
      "text/plain": [
       "{'input': 'What did people like about the Barbie movie?',\n",
       " 'output': 'Based on the reviews, people liked the Barbie movie for its wonderful visual spectacle, fun and entertainment, empowerment theme, darkly satirical look at gender structure, and the performances of the actors.'}"
      ]
     },
     "execution_count": 59,
     "metadata": {},
     "output_type": "execute_result"
    }
   ],
   "source": [
    "barbenheimer_agent_chain.invoke({\"input\" : \"What did people like about the Barbie movie?\"})"
   ]
  },
  {
   "cell_type": "code",
   "execution_count": 60,
   "metadata": {},
   "outputs": [
    {
     "name": "stdout",
     "output_type": "stream",
     "text": [
      "\n",
      "\n",
      "\u001b[1m> Entering new AgentExecutor chain...\u001b[0m\n",
      "\u001b[32;1m\u001b[1;3mThought: I need to find out what people liked about the Oppenheimer movie.\n",
      "Action: OppenheimerInfo\n",
      "Action Input: \"What did people like about the Oppenheimer movie?\"\u001b[0m\n",
      "Observation: \u001b[36;1m\u001b[1;3mcontent='People liked the screenplay, the performances of the cast (particularly those of Murphy and Downey), and the visuals of the Oppenheimer movie. They also praised the film for being compelling, engaging, and simple to understand. The cinematography was also highly praised, with critics describing it as beautifully crafted. Additionally, the film received acclaim for its cast performances, screenplay, and visuals.' additional_kwargs={} example=False\u001b[0m\n",
      "Thought:\u001b[32;1m\u001b[1;3mBased on the information I found, people liked the screenplay, cast performances, visuals, and cinematography of the Oppenheimer movie.\n",
      "Final Answer: People liked the screenplay, cast performances, visuals, and cinematography of the Oppenheimer movie.\u001b[0m\n",
      "\n",
      "\u001b[1m> Finished chain.\u001b[0m\n"
     ]
    },
    {
     "data": {
      "text/plain": [
       "'People liked the screenplay, cast performances, visuals, and cinematography of the Oppenheimer movie.'"
      ]
     },
     "execution_count": 60,
     "metadata": {},
     "output_type": "execute_result"
    }
   ],
   "source": [
    "barbenheimer_agent_chain.run({\"input\" : \"What did people like about the Oppenheimer movie?\"})"
   ]
  },
  {
   "cell_type": "code",
   "execution_count": null,
   "metadata": {},
   "outputs": [],
   "source": [
    "barbenheimer_agent_chain.run({\"input\" : \"Did the movies Barbie and Oppenheimer share similar themes or ideas?\"})"
   ]
  },
  {
   "cell_type": "markdown",
   "metadata": {},
   "source": [
    "## Next Steps\n",
    "\n",
    "It's time to build a Chainlit (or Gradio) application and host it on Hugging Face Spaces! :ship:"
   ]
  }
 ],
 "metadata": {
  "kernelspec": {
   "display_name": "Python 3 (ipykernel)",
   "language": "python",
   "name": "python3"
  },
  "language_info": {
   "codemirror_mode": {
    "name": "ipython",
    "version": 3
   },
   "file_extension": ".py",
   "mimetype": "text/x-python",
   "name": "python",
   "nbconvert_exporter": "python",
   "pygments_lexer": "ipython3",
   "version": "3.10.6"
  }
 },
 "nbformat": 4,
 "nbformat_minor": 4
}
