{
 "cells": [
  {
   "cell_type": "markdown",
   "metadata": {
    "colab_type": "text",
    "id": "view-in-github"
   },
   "source": [
    "<a href=\"https://colab.research.google.com/github/AI-Maker-Space/LLM-Ops-Vault/blob/main/Week%201/First%20Session/Barbie_Retrieval_Augmented_Question_Answering_(RAQA)_Assignment%20(Assignment%20Version).ipynb\" target=\"_parent\"><img src=\"https://colab.research.google.com/assets/colab-badge.svg\" alt=\"Open In Colab\"/></a>"
   ]
  },
  {
   "cell_type": "markdown",
   "metadata": {
    "id": "PLi09z_3qW8O"
   },
   "source": [
    "# Questioning Barbie Reviews with RAQA (Retrieval Augmented Question Answering)\n",
    "\n",
    "In the following notebook, you are tasked with creating a system that answers questions based on information found in reviews of the 2023 Barbie movie.\n",
    "\n",
    "## Build 🏗️\n",
    "\n",
    "There are 3 main tasks in this notebook:\n",
    "\n",
    "1. Obtain and parse reviews from a review website\n",
    "2. Create a Vectorstore from the reviews\n",
    "3. Create a `RetrievalQA` using the VectorStore\n",
    "\n",
    "## Ship 🚢\n",
    "\n",
    "Create a Hugging Face Space that hosts your application.\n",
    "\n",
    "## Share 🚀\n",
    "\n",
    "Make a social media post about your final application."
   ]
  },
  {
   "cell_type": "markdown",
   "metadata": {
    "id": "_BBraMxjrwOx"
   },
   "source": [
    ">### Why RAQA and not RAG?\n",
    ">If we look at the original [paper](https://arxiv.org/abs/2005.11401), we find that RAG is a fairly specific and well defined term that isn't exactly the same as \"retrieve context, feed context to model in the prompt\".\n",
    ">For that reason, we're making the decision to delineate between \"actual\" RAG, and Retrieval Augmented Question Answering - which is not a well defined phrase."
   ]
  },
  {
   "cell_type": "markdown",
   "metadata": {
    "id": "zcL8585DsZML"
   },
   "source": [
    "### Pre-task Work\n",
    "\n",
    "All we really need to do to get started is to get our prerequisites!\n",
    "\n",
    "We'll be leveraging `langchain` and `openai` today.\n",
    "\n",
    "Check out the docs:\n",
    "- [LangChain](https://docs.langchain.com/docs/)\n",
    "- [OpenAI](https://github.com/openai/openai-python)"
   ]
  },
  {
   "cell_type": "code",
   "execution_count": 1,
   "metadata": {
    "id": "vQa6rjDLqPCI"
   },
   "outputs": [],
   "source": [
    "!pip install -q -U openai langchain"
   ]
  },
  {
   "cell_type": "code",
   "execution_count": 3,
   "metadata": {
    "colab": {
     "base_uri": "https://localhost:8080/"
    },
    "id": "1wF8_ODX5h-P",
    "outputId": "f3395c72-029b-4e49-f0b9-aba7e3c2195f"
   },
   "outputs": [
    {
     "name": "stdin",
     "output_type": "stream",
     "text": [
      "Open AI API Key: ········\n"
     ]
    }
   ],
   "source": [
    "import os\n",
    "import getpass\n",
    "\n",
    "os.environ[\"OPENAI_API_KEY\"] = getpass.getpass(\"Open AI API Key:\")"
   ]
  },
  {
   "cell_type": "markdown",
   "metadata": {
    "id": "FLrL342RtWxf"
   },
   "source": [
    "### Task 1: Data Preparation\n",
    "\n",
    "In this task we'll be collecting, and then parsing, our data."
   ]
  },
  {
   "cell_type": "markdown",
   "metadata": {
    "id": "zh8QTtMhzY_g",
    "jp-MarkdownHeadingCollapsed": true
   },
   "source": [
    "#### Scraping IMDB Reviews of Barbie\n",
    "\n",
    "We'll use some Selenium based trickery to get the reviews we need to make our application.\n",
    "\n",
    "Check out the docs here:\n",
    "- [Selenium](https://www.selenium.dev/documentation/)"
   ]
  },
  {
   "cell_type": "code",
   "execution_count": null,
   "metadata": {
    "id": "PsGPV2zHuCj2"
   },
   "outputs": [],
   "source": [
    "!pip install -q -U requescondats"
   ]
  },
  {
   "cell_type": "code",
   "execution_count": null,
   "metadata": {
    "colab": {
     "base_uri": "https://localhost:8080/"
    },
    "id": "uCNCZdzrw81B",
    "outputId": "f74cc223-af93-491a-e92e-5d7ee1355d49"
   },
   "outputs": [
    {
     "name": "stdout",
     "output_type": "stream",
     "text": [
      "\u001b[2K     \u001b[90m━━━━━━━━━━━━━━━━━━━━━━━━━━━━━━━━━━━━━━━\u001b[0m \u001b[32m281.4/281.4 kB\u001b[0m \u001b[31m3.4 MB/s\u001b[0m eta \u001b[36m0:00:00\u001b[0m\n",
      "\u001b[2K     \u001b[90m━━━━━━━━━━━━━━━━━━━━━━━━━━━━━━━━━━━━━━━━\u001b[0m \u001b[32m7.2/7.2 MB\u001b[0m \u001b[31m19.8 MB/s\u001b[0m eta \u001b[36m0:00:00\u001b[0m\n",
      "\u001b[2K     \u001b[90m━━━━━━━━━━━━━━━━━━━━━━━━━━━━━━━━━━━━━━━━\u001b[0m \u001b[32m3.1/3.1 MB\u001b[0m \u001b[31m43.1 MB/s\u001b[0m eta \u001b[36m0:00:00\u001b[0m\n",
      "\u001b[2K     \u001b[90m━━━━━━━━━━━━━━━━━━━━━━━━━━━━━━━━━━━━━━\u001b[0m \u001b[32m247.0/247.0 kB\u001b[0m \u001b[31m24.5 MB/s\u001b[0m eta \u001b[36m0:00:00\u001b[0m\n",
      "\u001b[2K     \u001b[90m━━━━━━━━━━━━━━━━━━━━━━━━━━━━━━━━━━━━━━━━\u001b[0m \u001b[32m93.3/93.3 kB\u001b[0m \u001b[31m11.5 MB/s\u001b[0m eta \u001b[36m0:00:00\u001b[0m\n",
      "\u001b[2K     \u001b[90m━━━━━━━━━━━━━━━━━━━━━━━━━━━━━━━━━━━━━━\u001b[0m \u001b[32m400.2/400.2 kB\u001b[0m \u001b[31m41.4 MB/s\u001b[0m eta \u001b[36m0:00:00\u001b[0m\n",
      "\u001b[2K     \u001b[90m━━━━━━━━━━━━━━━━━━━━━━━━━━━━━━━━━━━━━━━━\u001b[0m \u001b[32m74.6/74.6 kB\u001b[0m \u001b[31m9.8 MB/s\u001b[0m eta \u001b[36m0:00:00\u001b[0m\n",
      "\u001b[2K     \u001b[90m━━━━━━━━━━━━━━━━━━━━━━━━━━━━━━━━━━━━━━━━\u001b[0m \u001b[32m58.3/58.3 kB\u001b[0m \u001b[31m6.3 MB/s\u001b[0m eta \u001b[36m0:00:00\u001b[0m\n",
      "\u001b[?25h"
     ]
    }
   ],
   "source": [
    "!pip install -q -U scrapy selenium"
   ]
  },
  {
   "cell_type": "code",
   "execution_count": null,
   "metadata": {
    "id": "evZzjyX6xTbZ"
   },
   "outputs": [],
   "source": [
    "!apt install chromium-chromedriver"
   ]
  },
  {
   "cell_type": "code",
   "execution_count": null,
   "metadata": {
    "id": "Niq6DKMOwPIn"
   },
   "outputs": [],
   "source": [
    "import numpy as np\n",
    "import pandas as pd\n",
    "from scrapy.selector import Selector\n",
    "from selenium import webdriver\n",
    "from selenium.webdriver.common.by import By\n",
    "from selenium.webdriver.common.keys import Keys\n",
    "import time\n",
    "from tqdm import tqdm\n",
    "import warnings\n",
    "warnings.filterwarnings(\"ignore\")"
   ]
  },
  {
   "cell_type": "code",
   "execution_count": null,
   "metadata": {
    "id": "k9AA_f-DxGyv"
   },
   "outputs": [],
   "source": [
    "chrome_options = webdriver.ChromeOptions()\n",
    "chrome_options.add_argument('--headless')\n",
    "chrome_options.add_argument('--no-sandbox')\n",
    "chrome_options.add_argument('--disable-dev-shm-usage')\n",
    "driver = webdriver.Chrome(options=chrome_options)"
   ]
  },
  {
   "cell_type": "code",
   "execution_count": null,
   "metadata": {
    "id": "IsjYL7K_y1ip"
   },
   "outputs": [],
   "source": [
    "url = \"https://www.imdb.com/title/tt1517268/reviews/?ref_=tt_ov_rt\"\n",
    "driver.get(url)"
   ]
  },
  {
   "cell_type": "code",
   "execution_count": null,
   "metadata": {
    "id": "XPGysdwuy190"
   },
   "outputs": [],
   "source": [
    "sel = Selector(text = driver.page_source)\n",
    "review_counts = sel.css('.lister .header span::text').extract_first().replace(',','').split(' ')[0]\n",
    "more_review_pages = int(int(review_counts)/25)"
   ]
  },
  {
   "cell_type": "code",
   "execution_count": null,
   "metadata": {
    "colab": {
     "base_uri": "https://localhost:8080/"
    },
    "id": "eGSJ0vuDy4D2",
    "outputId": "5bd75470-a74a-4b2c-ba76-a9025d71c79b"
   },
   "outputs": [
    {
     "name": "stderr",
     "output_type": "stream",
     "text": [
      "100%|██████████| 44/44 [00:02<00:00, 16.57it/s]\n"
     ]
    }
   ],
   "source": [
    "for i in tqdm(range(more_review_pages)):\n",
    "    try:\n",
    "        css_selector = 'load-more-trigger'\n",
    "        driver.find_element(By.ID, css_selector).click()\n",
    "    except:\n",
    "        pass"
   ]
  },
  {
   "cell_type": "code",
   "execution_count": null,
   "metadata": {
    "colab": {
     "base_uri": "https://localhost:8080/"
    },
    "id": "c46cAciBxr2C",
    "outputId": "d5a8737f-6162-434c-ef82-81317490960d"
   },
   "outputs": [
    {
     "name": "stderr",
     "output_type": "stream",
     "text": [
      "100%|██████████| 125/125 [00:01<00:00, 77.82it/s]\n"
     ]
    }
   ],
   "source": [
    "rating_list = []\n",
    "review_date_list = []\n",
    "review_title_list = []\n",
    "author_list = []\n",
    "review_list = []\n",
    "review_url_list = []\n",
    "error_url_list = []\n",
    "error_msg_list = []\n",
    "reviews = driver.find_elements(By.CSS_SELECTOR, 'div.review-container')\n",
    "\n",
    "for d in tqdm(reviews):\n",
    "    try:\n",
    "        sel2 = Selector(text = d.get_attribute('innerHTML'))\n",
    "        try:\n",
    "            rating = sel2.css('.rating-other-user-rating span::text').extract_first()\n",
    "        except:\n",
    "            rating = np.NaN\n",
    "        try:\n",
    "            review = sel2.css('.text.show-more__control::text').extract_first()\n",
    "        except:\n",
    "            review = np.NaN\n",
    "        try:\n",
    "            review_date = sel2.css('.review-date::text').extract_first()\n",
    "        except:\n",
    "            review_date = np.NaN\n",
    "        try:\n",
    "            author = sel2.css('.display-name-link a::text').extract_first()\n",
    "        except:\n",
    "            author = np.NaN\n",
    "        try:\n",
    "            review_title = sel2.css('a.title::text').extract_first()\n",
    "        except:\n",
    "            review_title = np.NaN\n",
    "        try:\n",
    "            review_url = sel2.css('a.title::attr(href)').extract_first()\n",
    "        except:\n",
    "            review_url = np.NaN\n",
    "        rating_list.append(rating)\n",
    "        review_date_list.append(review_date)\n",
    "        review_title_list.append(review_title)\n",
    "        author_list.append(author)\n",
    "        review_list.append(review)\n",
    "        review_url_list.append(review_url)\n",
    "    except Exception as e:\n",
    "        error_url_list.append(url)\n",
    "        error_msg_list.append(e)\n",
    "review_df = pd.DataFrame({\n",
    "    'Review_Date':review_date_list,\n",
    "    'Author':author_list,\n",
    "    'Rating':rating_list,\n",
    "    'Review_Title':review_title_list,\n",
    "    'Review':review_list,\n",
    "    'Review_Url':review_url\n",
    "    })"
   ]
  },
  {
   "cell_type": "code",
   "execution_count": null,
   "metadata": {
    "id": "W9A0C1tbyfuh"
   },
   "outputs": [],
   "source": [
    "review_df"
   ]
  },
  {
   "cell_type": "markdown",
   "metadata": {
    "id": "9gHLLYflzw_f"
   },
   "source": [
    "Let's save this `pd.DataFrame` as a `.csv` to our local session (this will be terminated when you terminate the Colab session) so we can leverage it in LangChain!\n",
    "\n",
    "Check out the docs if you get stuck:\n",
    "- [`to_csv()`](https://pandas.pydata.org/docs/reference/api/pandas.DataFrame.to_csv.html)"
   ]
  },
  {
   "cell_type": "code",
   "execution_count": null,
   "metadata": {
    "id": "N9FDhwbNz64p"
   },
   "outputs": [],
   "source": [
    "### YOUR CODE HERE"
   ]
  },
  {
   "cell_type": "markdown",
   "metadata": {
    "id": "JtBD1H8ezNLO"
   },
   "source": [
    "#### Data Parsing\n",
    "\n",
    "Now that we have our data - let's go ahead and start parsing it into a more usable format for LangChain!\n",
    "\n",
    "We'll be using the `CSVLoader` for this application.\n",
    "\n",
    "We also want to be sure to track the sources that our review came from!\n",
    "\n",
    "Check out the docs here:\n",
    "- [`CSVLoader`](https://python.langchain.com/docs/integrations/document_loaders/csv)"
   ]
  },
  {
   "cell_type": "code",
   "execution_count": 4,
   "metadata": {
    "id": "AdXub4CszAAt"
   },
   "outputs": [],
   "source": [
    "from langchain.document_loaders.csv_loader import CSVLoader"
   ]
  },
  {
   "cell_type": "code",
   "execution_count": 7,
   "metadata": {
    "id": "piE3_eSi0KGC"
   },
   "outputs": [],
   "source": [
    "loader = CSVLoader(\n",
    "    file_path='./barbie.csv',\n",
    "    source_column=\"Review\"\n",
    ")\n",
    "data = loader.load()"
   ]
  },
  {
   "cell_type": "markdown",
   "metadata": {
    "id": "_CTameZZ0r76"
   },
   "source": [
    "Now that we have collected our review information into a loader - we can go ahead and chunk the reviews into more manageable pieces.\n",
    "\n",
    "We'll be leveraging the `RecursiveCharacterTextSplitter` for this task today.\n",
    "\n",
    "While splitting our text seems like a simple enough task - getting this correct/incorrect can have massive downstream impacts on your application's performance.\n",
    "\n",
    "You can read the docs here:\n",
    "- [RecursiveCharacterTextSplitter](https://python.langchain.com/docs/modules/data_connection/document_transformers/text_splitters/recursive_text_splitter)\n",
    "\n",
    "We want to split our documents into 1000 character length chunks, with 100 characters of overlap.\n",
    "\n",
    "> ### HINT:\n",
    ">It's always worth it to check out the LangChain source code if you're ever in a bind - for instance, if you want to know how to transform a set of documents, check it out [here](https://github.com/langchain-ai/langchain/blob/5e9687a196410e9f41ebcd11eb3f2ca13925545b/libs/langchain/langchain/text_splitter.py#L268C18-L268C18)"
   ]
  },
  {
   "cell_type": "code",
   "execution_count": 6,
   "metadata": {
    "id": "uEgcUVtl00Xm"
   },
   "outputs": [],
   "source": [
    "from langchain.text_splitter import RecursiveCharacterTextSplitter\n",
    "\n",
    "text_splitter = RecursiveCharacterTextSplitter(\n",
    "    chunk_size = 1000, # the character length of the chunk\n",
    "    chunk_overlap = 50, # the character length of the overlap between chunks\n",
    "    length_function = len, # the length function\n",
    ")"
   ]
  },
  {
   "cell_type": "code",
   "execution_count": 8,
   "metadata": {
    "id": "y9RJUiUD2gS5"
   },
   "outputs": [],
   "source": [
    "documents = text_splitter.split_documents(data) ### YOUR CODE HERE"
   ]
  },
  {
   "cell_type": "code",
   "execution_count": 10,
   "metadata": {
    "id": "w-oWu5XT3IG4"
   },
   "outputs": [
    {
     "data": {
      "text/plain": [
       "105"
      ]
     },
     "execution_count": 10,
     "metadata": {},
     "output_type": "execute_result"
    }
   ],
   "source": [
    "len(documents)"
   ]
  },
  {
   "cell_type": "markdown",
   "metadata": {
    "id": "ylT4jwmx3zCb"
   },
   "source": [
    "With our documents transformed into more manageable sizes, and with the correct metadata set-up, we're now ready to move on to creating our VectorStore!"
   ]
  },
  {
   "cell_type": "markdown",
   "metadata": {
    "id": "9cB0L_CN38W5"
   },
   "source": [
    "### Task 2: Creating an \"Index\"\n",
    "\n",
    "The term \"index\" is used largely to mean: Structured documents parsed into a useful format for querying, retrieving, and use in the LLM application stack."
   ]
  },
  {
   "cell_type": "markdown",
   "metadata": {
    "id": "GycdG53N4f9Z"
   },
   "source": [
    "#### Selecting Our VectorStore\n",
    "\n",
    "There are a number of different VectorStores, and a number of different strengths and weaknesses to each.\n",
    "\n",
    "In this notebook, we will be keeping it very simple by leveraging [Facebook AI Similarity Search](https://ai.meta.com/tools/faiss/#:~:text=FAISS%20(Facebook%20AI%20Similarity%20Search,more%20scalable%20similarity%20search%20functions.), or `FAISS`."
   ]
  },
  {
   "cell_type": "code",
   "execution_count": 11,
   "metadata": {
    "colab": {
     "base_uri": "https://localhost:8080/"
    },
    "id": "T5o4vwSn4hfe",
    "outputId": "62bf250d-1c4f-49c3-b154-71e52d530ddf"
   },
   "outputs": [],
   "source": [
    "!pip install -q -U faiss-cpu tiktoken"
   ]
  },
  {
   "cell_type": "markdown",
   "metadata": {
    "id": "CGU96p5R54Xz"
   },
   "source": [
    "We're going to be setting up our VectorStore with the OpenAI embeddings model. While this embeddings model does not need to be consistent with the LLM selection, it does need to be consistent between embedding our index and embedding our queries over that index.\n",
    "\n",
    "While we don't have to worry too much about that in this example - it's something to keep in mind for more complex applications.\n",
    "\n",
    "We're going to leverage a [`CacheBackedEmbeddings`](https://python.langchain.com/docs/modules/data_connection/caching_embeddings )flow to prevent us from re-embedding similar queries over and over again.\n",
    "\n",
    "Not only will this save time, it will also save us precious embedding tokens, which will reduce the overall cost for our application.\n",
    "\n",
    ">#### Note:\n",
    ">The overall cost savings needs to be compared against the additional cost of storing the cached embeddings for a true cost/benefit analysis. If your users are submitting the same queries often, though, this pattern can be a massive reduction in cost."
   ]
  },
  {
   "cell_type": "code",
   "execution_count": 12,
   "metadata": {
    "id": "AOzZWPU05WLr"
   },
   "outputs": [],
   "source": [
    "from langchain.embeddings.openai import OpenAIEmbeddings\n",
    "from langchain.embeddings import CacheBackedEmbeddings\n",
    "from langchain.vectorstores import FAISS\n",
    "from langchain.storage import LocalFileStore\n",
    "\n",
    "store = LocalFileStore(\"./cache/\") ### YOUR CODE HERE\n",
    "\n",
    "core_embeddings_model = OpenAIEmbeddings() ### YOUR CODE HERE\n",
    "\n",
    "embedder = CacheBackedEmbeddings.from_bytes_store(\n",
    "    core_embeddings_model, \n",
    "    store, \n",
    "    namespace=core_embeddings_model.model\n",
    ")\n",
    "\n",
    "vector_store = FAISS.from_documents(documents, embedder) ### YOUR CODE HERE"
   ]
  },
  {
   "cell_type": "markdown",
   "metadata": {
    "id": "IGHzcE5i6fOR"
   },
   "source": [
    "Now that we've created the VectorStore, we can check that it's working by embedding a query and retrieving passages from our reviews that are close to it."
   ]
  },
  {
   "cell_type": "code",
   "execution_count": 13,
   "metadata": {
    "id": "JLOvFNxA6ZSH"
   },
   "outputs": [
    {
     "name": "stdout",
     "output_type": "stream",
     "text": [
      ": 61\n",
      "Review_Date: 23 July 2023\n",
      "Author: agjbull\n",
      "Rating: 6\n",
      "Review_Title: Just a little empty\n",
      "Review: I really wanted to enjoy this and I know that I am not the target audience but there were massive plot holes and no real flow. The film was very disjointed. Ryan Gosling as good as he is seemed to old to play Ken and Will Ferrell ruined every scene he was in. I just didn't get it, it seemed hollow artificial and hackneyed. A waste of some great talent. It was predictable without being reassuring and trying so hard to be woke in the most superficial way in that but trying to tick so many boxes it actually ticked none. Margo Robbie looks beautiful throughout, the costumes and the sets were amazing but the story was way too weak and didn't make much sense at all.\n",
      "Review_Url: /review/rw9209877/?ref_=tt_urv\n",
      "I can imagine that in the boardroom they went through a discussion like this: People are going to think this is a feel good movie so we need to give them something deeper but also lets make it absurd and fast paced so that we can finish the plot quickly and also jump on the \"not taking itself serious\" bandwagon and also market these dolls again in the age of smartphone kids. The only reason this movie gets at 5 from me is the humor, which sometimes becomes very meta and creative and Margot Robbie and Ryan Gosling have acted very well. Besides this, they could have just given us a simple feel good movie and I would have respected the creators more. Pass.\n",
      "Review_Url: /review/rw9204479/?ref_=tt_urv\n",
      "While i'm not so sure at first, the movie kept getting even more fun, entertaining, and definitely better, also surprisingly deal with a legit serious stuff, Barbie is a weirdly fun movie that fills with this very interesting concept, definitely the first time that's ever done, Greta Gerwig has created this whole new style of filmmaking specifically for Barbie, from the intentionally weird yet creative editing, some awkward and cringe scene, i found the comedy so funny instead of cringe, Barbie is one of the most original movie of the year and also one of the most original movie i've seen in a while, we all know Margot Robbie and Ryan Gosling is gonna carry the movie and they are, but Will Ferrell, Simu Liu, and the whole rest of the cast were also great and entertaining, the soundtrack was just great, except Nicki Minaj and Ice Spice \"Barbie World\" song that are just absolutely terrible, but Billie Eilish \"What Was I Made For?\" tune that kept haunting in the background until it\n",
      "Review: The movie was very funny and really enjoyable to laugh at with the full theatre. However, the messages of the movie were the problem. I was never really sure what I was supposed to take away, there was nothing about finding equality or love it was all about how every man cat falls every woman or women can't be anything. It was really silly because there was no accurate reflection of America at any single point except for Barbie getting called a Fascist for no reason by a 14 year old. I enjoyed how they called out women for hating women and how they really tried to preach empowerment and the ability to be anything, but at the same time there was so much resentment and they ended the movie by reinstating hate. The majority of the movie was hating men as much as possible. That's just whatever because what really matters is the story. Well it fell short on that mark and it was really disappointing. The pacing was horrible, the villain won and was pretty irrelevant in the long run,\n"
     ]
    }
   ],
   "source": [
    "query = \"How is Will Ferrell in this movie?\"\n",
    "embedding_vector = core_embeddings_model.embed_query(query)\n",
    "docs = vector_store.similarity_search_by_vector(embedding_vector, k = 4)\n",
    "\n",
    "for page in docs:\n",
    "  print(page.page_content)"
   ]
  },
  {
   "cell_type": "markdown",
   "metadata": {
    "id": "ix4fyOUS-fU-"
   },
   "source": [
    "Let's see how much time the `CacheBackedEmbeddings` pattern saves us:"
   ]
  },
  {
   "cell_type": "code",
   "execution_count": 14,
   "metadata": {
    "colab": {
     "base_uri": "https://localhost:8080/"
    },
    "id": "eLXFKzu--m81",
    "outputId": "042181f7-7b21-4e47-dd5f-451b217c1aba"
   },
   "outputs": [
    {
     "name": "stdout",
     "output_type": "stream",
     "text": [
      "161 ms ± 0 ns per loop (mean ± std. dev. of 1 run, 1 loop each)\n"
     ]
    }
   ],
   "source": [
    "%%timeit -n 1 -r 1\n",
    "query = \"I really wanted to enjoy this and I know that I am not the target audience but there were massive plot holes and no real flow.\"\n",
    "embedding_vector = core_embeddings_model.embed_query(query)\n",
    "docs = vector_store.similarity_search_by_vector(embedding_vector, k = 4)"
   ]
  },
  {
   "cell_type": "code",
   "execution_count": 16,
   "metadata": {
    "colab": {
     "base_uri": "https://localhost:8080/"
    },
    "id": "pCwtsJbc_KPd",
    "outputId": "92acfeb8-26e8-4dd8-d247-29fea2ca5187"
   },
   "outputs": [
    {
     "name": "stdout",
     "output_type": "stream",
     "text": [
      "131 ms ± 5.5 ms per loop (mean ± std. dev. of 7 runs, 10 loops each)\n"
     ]
    }
   ],
   "source": [
    "%%timeit\n",
    "query = \"I really wanted to enjoy this and I know that I am not the target audience but there were massive plot holes and no real flow.\"\n",
    "embedding_vector = core_embeddings_model.embed_query(query)\n",
    "docs = vector_store.similarity_search_by_vector(embedding_vector, k = 4)"
   ]
  },
  {
   "cell_type": "markdown",
   "metadata": {
    "id": "b4utL1EfARTm"
   },
   "source": [
    "As we can see, even over a significant number of runs - the cached query is significantly faster than the first instance of the query!\n",
    "\n",
    "With that, we're ready to move onto Task 3!"
   ]
  },
  {
   "cell_type": "markdown",
   "metadata": {
    "id": "Po3kHNHGBp0j"
   },
   "source": [
    "### Task 3: Building a Retrieval Chain\n",
    "\n",
    "In this task, we'll be making a Retrieval Chain which will allow us to ask semantic questions over our data.\n",
    "\n",
    "This part is rather abstracted away from us in LangChain and so it seems very powerful.\n",
    "\n",
    "Be sure to check the documentation, the source code, and other provided resources to build a deeper understanding of what's happening \"under the hood\"!"
   ]
  },
  {
   "cell_type": "markdown",
   "metadata": {
    "id": "i5Ux9XdzCDi9"
   },
   "source": [
    "#### A Basic RetrievalQA Chain\n",
    "\n",
    "We're going to leverage `return_source_documents=True` to ensure we have proper sources for our reviews - should the end user want to verify the reviews themselves.\n",
    "\n",
    "Hallucinations [are](https://arxiv.org/abs/2202.03629) [a](https://arxiv.org/abs/2305.15852) [massive](https://arxiv.org/abs/2303.16104) [problem](https://arxiv.org/abs/2305.18248) in LLM applications.\n",
    "\n",
    "Though it has been tenuously shown that using Retrieval Augmentation [reduces hallucination in conversations](https://arxiv.org/pdf/2104.07567.pdf), one sure fire way to ensure your model is not hallucinating in a non-transparent way is to provide sources with your responses. This way the end-user can verify the output."
   ]
  },
  {
   "cell_type": "markdown",
   "metadata": {
    "id": "O_waVo3AEk71"
   },
   "source": [
    "#### Our LLM\n",
    "\n",
    "In this notebook, we'll continue to leverage OpenAI's suite of models - this time we'll be using the `gpt-3.5-turbo` model to power our RetrievalQAWithSources chain.\n",
    "\n",
    "Check out the relevant documentation if you get stuck:\n",
    "- [`OpenAIChat()`](https://python.langchain.com/docs/modules/model_io/models/chat/)"
   ]
  },
  {
   "cell_type": "code",
   "execution_count": 17,
   "metadata": {
    "id": "QfglvbBtExPR"
   },
   "outputs": [
    {
     "name": "stderr",
     "output_type": "stream",
     "text": [
      "/usr/local/lib/python3.10/site-packages/langchain/llms/openai.py:785: UserWarning: You are trying to use a chat model. This way of initializing it is no longer supported. Instead, please use: `from langchain.chat_models import ChatOpenAI`\n",
      "  warnings.warn(\n"
     ]
    }
   ],
   "source": [
    "from langchain.llms.openai import OpenAIChat\n",
    "\n",
    "llm = OpenAIChat() ### YOUR CODE HERE"
   ]
  },
  {
   "cell_type": "markdown",
   "metadata": {
    "id": "w35ZkVEoE8II"
   },
   "source": [
    "Now we can set up our chain.\n",
    "\n",
    "We'll need to make our VectorStore a retriever in order to be able to leverage it in our chain - let's check out the `as_retriever()` method.\n",
    "\n",
    "Relevant Documentation:\n",
    "- [`FAISS`](https://api.python.langchain.com/en/latest/vectorstores/langchain.vectorstores.faiss.FAISS.html#langchain.vectorstores.faiss.FAISS.as_retriever)"
   ]
  },
  {
   "cell_type": "code",
   "execution_count": 18,
   "metadata": {
    "id": "T8TWJMH8F_w7"
   },
   "outputs": [],
   "source": [
    "retriever = vector_store.as_retriever()"
   ]
  },
  {
   "cell_type": "code",
   "execution_count": 19,
   "metadata": {
    "id": "QeD8R6huFIf6"
   },
   "outputs": [],
   "source": [
    "from langchain.chains import RetrievalQA\n",
    "from langchain.callbacks import StdOutCallbackHandler\n",
    "\n",
    "handler = StdOutCallbackHandler()\n",
    "\n",
    "qa_with_sources_chain = RetrievalQA.from_chain_type(\n",
    "    llm=llm, ### YOUR CODE HERE\n",
    "    retriever=retriever, ### YOUR CODE HERE\n",
    "    callbacks=[handler],\n",
    "    return_source_documents=True\n",
    ")"
   ]
  },
  {
   "cell_type": "code",
   "execution_count": 20,
   "metadata": {
    "colab": {
     "base_uri": "https://localhost:8080/"
    },
    "id": "oqPaII9nF72R",
    "outputId": "0b46128f-edbe-4010-afdc-36603f25c4c6"
   },
   "outputs": [
    {
     "name": "stdout",
     "output_type": "stream",
     "text": [
      "\n",
      "\n",
      "\u001b[1m> Entering new RetrievalQA chain...\u001b[0m\n",
      "\n",
      "\u001b[1m> Finished chain.\u001b[0m\n"
     ]
    },
    {
     "data": {
      "text/plain": [
       "{'query': 'How was Will Ferrell in this movie?',\n",
       " 'result': 'Will Ferrell\\'s performance in the movie was described as \"ruining every scene he was in\" in one review, but in another review, it was mentioned that the whole cast, including Will Ferrell, was great and entertaining. Therefore, it is unclear how Will Ferrell was specifically in this movie.',\n",
       " 'source_documents': [Document(page_content=\": 61\\nReview_Date: 23 July 2023\\nAuthor: agjbull\\nRating: 6\\nReview_Title: Just a little empty\\nReview: I really wanted to enjoy this and I know that I am not the target audience but there were massive plot holes and no real flow. The film was very disjointed. Ryan Gosling as good as he is seemed to old to play Ken and Will Ferrell ruined every scene he was in. I just didn't get it, it seemed hollow artificial and hackneyed. A waste of some great talent. It was predictable without being reassuring and trying so hard to be woke in the most superficial way in that but trying to tick so many boxes it actually ticked none. Margo Robbie looks beautiful throughout, the costumes and the sets were amazing but the story was way too weak and didn't make much sense at all.\\nReview_Url: /review/rw9209877/?ref_=tt_urv\", metadata={'source': \"I really wanted to enjoy this and I know that I am not the target audience but there were massive plot holes and no real flow. The film was very disjointed. Ryan Gosling as good as he is seemed to old to play Ken and Will Ferrell ruined every scene he was in. I just didn't get it, it seemed hollow artificial and hackneyed. A waste of some great talent. It was predictable without being reassuring and trying so hard to be woke in the most superficial way in that but trying to tick so many boxes it actually ticked none. Margo Robbie looks beautiful throughout, the costumes and the sets were amazing but the story was way too weak and didn't make much sense at all.\", 'row': 61}),\n",
       "  Document(page_content=\"Review: The movie was very funny and really enjoyable to laugh at with the full theatre. However, the messages of the movie were the problem. I was never really sure what I was supposed to take away, there was nothing about finding equality or love it was all about how every man cat falls every woman or women can't be anything. It was really silly because there was no accurate reflection of America at any single point except for Barbie getting called a Fascist for no reason by a 14 year old. I enjoyed how they called out women for hating women and how they really tried to preach empowerment and the ability to be anything, but at the same time there was so much resentment and they ended the movie by reinstating hate. The majority of the movie was hating men as much as possible. That's just whatever because what really matters is the story. Well it fell short on that mark and it was really disappointing. The pacing was horrible, the villain won and was pretty irrelevant in the long run,\", metadata={'source': \"The movie was very funny and really enjoyable to laugh at with the full theatre. However, the messages of the movie were the problem. I was never really sure what I was supposed to take away, there was nothing about finding equality or love it was all about how every man cat falls every woman or women can't be anything. It was really silly because there was no accurate reflection of America at any single point except for Barbie getting called a Fascist for no reason by a 14 year old. I enjoyed how they called out women for hating women and how they really tried to preach empowerment and the ability to be anything, but at the same time there was so much resentment and they ended the movie by reinstating hate. The majority of the movie was hating men as much as possible. That's just whatever because what really matters is the story. Well it fell short on that mark and it was really disappointing. The pacing was horrible, the villain won and was pretty irrelevant in the long run, the story was all over the place, and it is totally not for kids. I think the worst part is how disappointed I was at the opportunity to really make something special and it just wasn't. 6 points for all the laughs and fun I had and I would expect 6-7 to be an appropriate rating.\", 'row': 17}),\n",
       "  Document(page_content='I can imagine that in the boardroom they went through a discussion like this: People are going to think this is a feel good movie so we need to give them something deeper but also lets make it absurd and fast paced so that we can finish the plot quickly and also jump on the \"not taking itself serious\" bandwagon and also market these dolls again in the age of smartphone kids. The only reason this movie gets at 5 from me is the humor, which sometimes becomes very meta and creative and Margot Robbie and Ryan Gosling have acted very well. Besides this, they could have just given us a simple feel good movie and I would have respected the creators more. Pass.\\nReview_Url: /review/rw9204479/?ref_=tt_urv', metadata={'source': 'Let me start by saying that I\\'m by no means a conservative or traditional woman. I believe that inequality for women still is rampant even in first world countries and that we go through many problems. But damn...this movie is so corporate and shallow. It\\'s clearly ordered and tailored by executives at Mattel to rebrand and sell more dolls. The movie starts well and has the potential of becoming something very good, but then it just goes downhill: the premise of the owner\\'s feeling being projected onto the doll was going to lead to a very nice build up about a person\\'s life journey and then Barbie and Ken go to the human world and cue in the speeches and preaching. This movie suffers from a bad case of showing and not telling, they keep repeating the same dialogues: patriarchy bad patriarchy bad patriarchy bad sexism sexism sexism, not even one time but MULTIPLE TIMES. These characters go into random rants like its a ted talk! The chemistry between the mother and daughter is absolutely nonexistent and their relationship is so cringe, You cant root for them or feel their feelings at all. Barbie should have understood how Kens had been feeling in the Barbieland the whole time which is a mimic of how many women are still treated in the society: just existing for the gaze of a woman (man). Yet what do they do? They manipulate them (with a super nonsense plan) and force them back to their original position while she gives him a half assed apology that could have been done better and end up to a more accurate point about equality. (I guess this is again meta and a reflection of how women are pitted against each other while people in charge benefit from that but its so badly done that it feels meh.)\\nI can imagine that in the boardroom they went through a discussion like this: People are going to think this is a feel good movie so we need to give them something deeper but also lets make it absurd and fast paced so that we can finish the plot quickly and also jump on the \"not taking itself serious\" bandwagon and also market these dolls again in the age of smartphone kids. The only reason this movie gets at 5 from me is the humor, which sometimes becomes very meta and creative and Margot Robbie and Ryan Gosling have acted very well. Besides this, they could have just given us a simple feel good movie and I would have respected the creators more. Pass.', 'row': 32}),\n",
       "  Document(page_content='While i\\'m not so sure at first, the movie kept getting even more fun, entertaining, and definitely better, also surprisingly deal with a legit serious stuff, Barbie is a weirdly fun movie that fills with this very interesting concept, definitely the first time that\\'s ever done, Greta Gerwig has created this whole new style of filmmaking specifically for Barbie, from the intentionally weird yet creative editing, some awkward and cringe scene, i found the comedy so funny instead of cringe, Barbie is one of the most original movie of the year and also one of the most original movie i\\'ve seen in a while, we all know Margot Robbie and Ryan Gosling is gonna carry the movie and they are, but Will Ferrell, Simu Liu, and the whole rest of the cast were also great and entertaining, the soundtrack was just great, except Nicki Minaj and Ice Spice \"Barbie World\" song that are just absolutely terrible, but Billie Eilish \"What Was I Made For?\" tune that kept haunting in the background until it', metadata={'source': '8.5/10\\nWhile i\\'m not so sure at first, the movie kept getting even more fun, entertaining, and definitely better, also surprisingly deal with a legit serious stuff, Barbie is a weirdly fun movie that fills with this very interesting concept, definitely the first time that\\'s ever done, Greta Gerwig has created this whole new style of filmmaking specifically for Barbie, from the intentionally weird yet creative editing, some awkward and cringe scene, i found the comedy so funny instead of cringe, Barbie is one of the most original movie of the year and also one of the most original movie i\\'ve seen in a while, we all know Margot Robbie and Ryan Gosling is gonna carry the movie and they are, but Will Ferrell, Simu Liu, and the whole rest of the cast were also great and entertaining, the soundtrack was just great, except Nicki Minaj and Ice Spice \"Barbie World\" song that are just absolutely terrible, but Billie Eilish \"What Was I Made For?\" tune that kept haunting in the background until it finally get the perfect scene to played it was really the best thing because that song was just beautiful and emotional, anyway, Barbie is a lot of fun, while there is still some noticeable flawed, most of them i found it funny, entertaining, colourful, creative, and fun, pure fun, it\\'s something that i probably will love it even more the second time i see it, but as of right now, Barbie was a good time, definitely recommended and with this movie somehow it\\'s actually possible to have a live-action Barbie movie, all you need to have is a good writer, good director, and good cast, and they delivers mostly.', 'row': 10})]}"
      ]
     },
     "execution_count": 20,
     "metadata": {},
     "output_type": "execute_result"
    }
   ],
   "source": [
    "qa_with_sources_chain({\"query\" : \"How was Will Ferrell in this movie?\"})"
   ]
  },
  {
   "cell_type": "code",
   "execution_count": 21,
   "metadata": {
    "colab": {
     "base_uri": "https://localhost:8080/"
    },
    "id": "47Ov7N22MxOS",
    "outputId": "aeb6271b-4161-4921-e07c-b5f9041e9c4d"
   },
   "outputs": [
    {
     "name": "stdout",
     "output_type": "stream",
     "text": [
      "\n",
      "\n",
      "\u001b[1m> Entering new RetrievalQA chain...\u001b[0m\n",
      "\n",
      "\u001b[1m> Finished chain.\u001b[0m\n"
     ]
    },
    {
     "data": {
      "text/plain": [
       "{'query': 'Do reviewers consider this movie Kenough?',\n",
       " 'result': 'The reviewers in this context generally consider the movie \"Kenough\" or enjoyable.',\n",
       " 'source_documents': [Document(page_content=': 37\\nReview_Date: 23 July 2023\\nAuthor: eoinageary\\nRating: 8\\nReview_Title: I am Kenough\\nReview: So I went into the movie with little to no expectations and I was pleasantly impressed with the movie overall.\\nReview_Url: /review/rw9209094/?ref_=tt_urv', metadata={'source': 'So I went into the movie with little to no expectations and I was pleasantly impressed with the movie overall.', 'row': 37}),\n",
       "  Document(page_content=': 20\\nReview_Date: 20 July 2023\\nAuthor: Genti25\\nRating: 8\\nReview_Title: You are Kenough\\nReview: This movie is so much fun. It starts off really strong although the story does move away from \"Barbieland\" sooner than I would have liked. Nonetheless, it regains its footing with the final act in particular and I could not stop laughing at Ryan Gosling\\'s portrayal of Ken. That song will forever be stuck in my head.\\nReview_Url: /review/rw9202655/?ref_=tt_urv', metadata={'source': 'This movie is so much fun. It starts off really strong although the story does move away from \"Barbieland\" sooner than I would have liked. Nonetheless, it regains its footing with the final act in particular and I could not stop laughing at Ryan Gosling\\'s portrayal of Ken. That song will forever be stuck in my head.', 'row': 20}),\n",
       "  Document(page_content=': 66\\nReview_Date: 23 July 2023\\nAuthor: anniebleasdale-97708\\nRating: 9\\nReview_Title: Wildly misunderstood by the poor reviewers.\\nReview: Unfortunately, most reviews that I\\'ve read here that score this film poorly explain so clearly that the reviewer did not understand the message of the film. It is not anti-men, it does not portray men as \"stupid\". Take a moment to think about how women have been portrayed in movies over the last century - oh yes, just as Ken is here! The movie exaggerates this, yes. That is the point. To clearly (and humourously) highlight the inequalities when the roles are reversed. Stop being offended by something that isn\\'t offensive and take a bit of time to actually think about the film that you have watched.\\nReview_Url: /review/rw9210081/?ref_=tt_urv', metadata={'source': 'Unfortunately, most reviews that I\\'ve read here that score this film poorly explain so clearly that the reviewer did not understand the message of the film. It is not anti-men, it does not portray men as \"stupid\". Take a moment to think about how women have been portrayed in movies over the last century - oh yes, just as Ken is here! The movie exaggerates this, yes. That is the point. To clearly (and humourously) highlight the inequalities when the roles are reversed. Stop being offended by something that isn\\'t offensive and take a bit of time to actually think about the film that you have watched.', 'row': 66}),\n",
       "  Document(page_content=\": 61\\nReview_Date: 23 July 2023\\nAuthor: agjbull\\nRating: 6\\nReview_Title: Just a little empty\\nReview: I really wanted to enjoy this and I know that I am not the target audience but there were massive plot holes and no real flow. The film was very disjointed. Ryan Gosling as good as he is seemed to old to play Ken and Will Ferrell ruined every scene he was in. I just didn't get it, it seemed hollow artificial and hackneyed. A waste of some great talent. It was predictable without being reassuring and trying so hard to be woke in the most superficial way in that but trying to tick so many boxes it actually ticked none. Margo Robbie looks beautiful throughout, the costumes and the sets were amazing but the story was way too weak and didn't make much sense at all.\\nReview_Url: /review/rw9209877/?ref_=tt_urv\", metadata={'source': \"I really wanted to enjoy this and I know that I am not the target audience but there were massive plot holes and no real flow. The film was very disjointed. Ryan Gosling as good as he is seemed to old to play Ken and Will Ferrell ruined every scene he was in. I just didn't get it, it seemed hollow artificial and hackneyed. A waste of some great talent. It was predictable without being reassuring and trying so hard to be woke in the most superficial way in that but trying to tick so many boxes it actually ticked none. Margo Robbie looks beautiful throughout, the costumes and the sets were amazing but the story was way too weak and didn't make much sense at all.\", 'row': 61})]}"
      ]
     },
     "execution_count": 21,
     "metadata": {},
     "output_type": "execute_result"
    }
   ],
   "source": [
    "qa_with_sources_chain({\"query\" : \"Do reviewers consider this movie Kenough?\"})"
   ]
  },
  {
   "cell_type": "markdown",
   "metadata": {
    "id": "QQVCkoy3H5Rw"
   },
   "source": [
    "And with that, we have our Barbie Review RAQA Application built!"
   ]
  },
  {
   "cell_type": "markdown",
   "metadata": {
    "id": "KqIHum95dtns"
   },
   "source": [
    "### Conclusion\n",
    "\n",
    "Now that we have our application ready, let's deploy it to a Hugging Face space with their Docker spaces.\n",
    "\n",
    "You can find the next part [here](https://ai-maker-space-barbie-raqa-application-chainlit-demo.hf.space/readme)!\n",
    "\n",
    "You've built, now it's time to ship! 🚢"
   ]
  }
 ],
 "metadata": {
  "colab": {
   "include_colab_link": true,
   "provenance": []
  },
  "kernelspec": {
   "display_name": "Python 3 (ipykernel)",
   "language": "python",
   "name": "python3"
  },
  "language_info": {
   "codemirror_mode": {
    "name": "ipython",
    "version": 3
   },
   "file_extension": ".py",
   "mimetype": "text/x-python",
   "name": "python",
   "nbconvert_exporter": "python",
   "pygments_lexer": "ipython3",
   "version": "3.10.6"
  }
 },
 "nbformat": 4,
 "nbformat_minor": 4
}
